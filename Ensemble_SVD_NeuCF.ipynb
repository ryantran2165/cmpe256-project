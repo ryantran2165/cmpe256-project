{
 "cells": [
  {
   "cell_type": "markdown",
   "source": [
    "# Ensemble methods with Matrix Factorization and Neural Collaborative Filtering using Neural Architecture Search"
   ],
   "metadata": {
    "collapsed": false
   }
  },
  {
   "cell_type": "markdown",
   "source": [
    "**Imports**"
   ],
   "metadata": {
    "collapsed": false
   }
  },
  {
   "cell_type": "code",
   "execution_count": 1,
   "metadata": {
    "collapsed": true
   },
   "outputs": [],
   "source": [
    "import optuna\n",
    "import tensorflow as tf\n",
    "from tensorflow.keras.layers import Dropout, Input, Embedding,  Dense, Flatten, BatchNormalization\n",
    "from tensorflow.keras import regularizers\n",
    "import tensorflow.keras.backend as k\n",
    "from tensorflow.keras.models import Model\n",
    "from surprise import Dataset\n",
    "from surprise import Reader\n",
    "import pandas as pd\n",
    "import numpy as np\n",
    "from surprise import SVD\n",
    "from sklearn.metrics import mean_squared_error\n",
    "from sklearn.preprocessing import LabelEncoder\n",
    "import matplotlib.pyplot as plt\n",
    "import gc"
   ]
  },
  {
   "cell_type": "markdown",
   "source": [
    "Import dataset"
   ],
   "metadata": {
    "collapsed": false
   }
  },
  {
   "cell_type": "code",
   "execution_count": 2,
   "outputs": [
    {
     "data": {
      "text/plain": "                                    user_id             song_id  play_count  \\\n0  b80344d063b5ccb3212f76538f3d9e43d87dca9e  SOAKIMP12A8C130995           1   \n1  b80344d063b5ccb3212f76538f3d9e43d87dca9e  SOAPDEY12A81C210A9           1   \n2  b80344d063b5ccb3212f76538f3d9e43d87dca9e  SOBBMDR12A8C13253B           2   \n3  b80344d063b5ccb3212f76538f3d9e43d87dca9e  SOBFNSP12AF72A0E22           1   \n4  b80344d063b5ccb3212f76538f3d9e43d87dca9e  SOBFOVM12A58A7D494           1   \n\n   rating  \n0       1  \n1       1  \n2       2  \n3       1  \n4       1  ",
      "text/html": "<div>\n<style scoped>\n    .dataframe tbody tr th:only-of-type {\n        vertical-align: middle;\n    }\n\n    .dataframe tbody tr th {\n        vertical-align: top;\n    }\n\n    .dataframe thead th {\n        text-align: right;\n    }\n</style>\n<table border=\"1\" class=\"dataframe\">\n  <thead>\n    <tr style=\"text-align: right;\">\n      <th></th>\n      <th>user_id</th>\n      <th>song_id</th>\n      <th>play_count</th>\n      <th>rating</th>\n    </tr>\n  </thead>\n  <tbody>\n    <tr>\n      <th>0</th>\n      <td>b80344d063b5ccb3212f76538f3d9e43d87dca9e</td>\n      <td>SOAKIMP12A8C130995</td>\n      <td>1</td>\n      <td>1</td>\n    </tr>\n    <tr>\n      <th>1</th>\n      <td>b80344d063b5ccb3212f76538f3d9e43d87dca9e</td>\n      <td>SOAPDEY12A81C210A9</td>\n      <td>1</td>\n      <td>1</td>\n    </tr>\n    <tr>\n      <th>2</th>\n      <td>b80344d063b5ccb3212f76538f3d9e43d87dca9e</td>\n      <td>SOBBMDR12A8C13253B</td>\n      <td>2</td>\n      <td>2</td>\n    </tr>\n    <tr>\n      <th>3</th>\n      <td>b80344d063b5ccb3212f76538f3d9e43d87dca9e</td>\n      <td>SOBFNSP12AF72A0E22</td>\n      <td>1</td>\n      <td>1</td>\n    </tr>\n    <tr>\n      <th>4</th>\n      <td>b80344d063b5ccb3212f76538f3d9e43d87dca9e</td>\n      <td>SOBFOVM12A58A7D494</td>\n      <td>1</td>\n      <td>1</td>\n    </tr>\n  </tbody>\n</table>\n</div>"
     },
     "execution_count": 2,
     "metadata": {},
     "output_type": "execute_result"
    }
   ],
   "source": [
    "df = pd.read_csv('./train_triplets_filtered_ratings.csv')\n",
    "df.head()"
   ],
   "metadata": {
    "collapsed": false
   }
  },
  {
   "cell_type": "code",
   "execution_count": 3,
   "outputs": [
    {
     "data": {
      "text/plain": "(32525889, 4)"
     },
     "execution_count": 3,
     "metadata": {},
     "output_type": "execute_result"
    }
   ],
   "source": [
    "df.shape"
   ],
   "metadata": {
    "collapsed": false
   }
  },
  {
   "cell_type": "code",
   "execution_count": 4,
   "outputs": [
    {
     "data": {
      "text/plain": "558350"
     },
     "execution_count": 4,
     "metadata": {},
     "output_type": "execute_result"
    }
   ],
   "source": [
    "n_users = df['user_id'].unique().shape[0]  # Number of users\n",
    "n_users"
   ],
   "metadata": {
    "collapsed": false
   }
  },
  {
   "cell_type": "code",
   "execution_count": 5,
   "outputs": [
    {
     "data": {
      "text/plain": "36385"
     },
     "execution_count": 5,
     "metadata": {},
     "output_type": "execute_result"
    }
   ],
   "source": [
    "n_songs = df['song_id'].unique().shape[0]  # Number of songs\n",
    "n_songs"
   ],
   "metadata": {
    "collapsed": false
   }
  },
  {
   "cell_type": "code",
   "execution_count": 6,
   "outputs": [
    {
     "data": {
      "text/plain": "<Figure size 640x480 with 1 Axes>",
      "image/png": "[encoded data removed]"
     },
     "metadata": {},
     "output_type": "display_data"
    }
   ],
   "source": [
    "rating, n_rating = np.unique(df['rating'].values, return_counts=True)\n",
    "plt.bar(rating, n_rating)\n",
    "plt.ticklabel_format(style='plain')\n",
    "plt.title('Distribution of ratings')\n",
    "plt.ylabel('Count')\n",
    "plt.xlabel('Ratings');"
   ],
   "metadata": {
    "collapsed": false
   }
  },
  {
   "cell_type": "markdown",
   "source": [
    "Encoding data into numeric values"
   ],
   "metadata": {
    "collapsed": false
   }
  },
  {
   "cell_type": "code",
   "execution_count": 7,
   "outputs": [],
   "source": [
    "user_le = LabelEncoder()\n",
    "song_le = LabelEncoder()\n",
    "\n",
    "df['user_id'] = user_le.fit_transform(df['user_id'])\n",
    "df['song_id'] = song_le.fit_transform(df['song_id'])\n",
    "df['rating'] = df['rating'] - 1 # Scale ratings between 0-4"
   ],
   "metadata": {
    "collapsed": false
   }
  },
  {
   "cell_type": "markdown",
   "source": [
    "Split dataset into training and testing"
   ],
   "metadata": {
    "collapsed": false
   }
  },
  {
   "cell_type": "code",
   "execution_count": 8,
   "outputs": [
    {
     "name": "stdout",
     "output_type": "stream",
     "text": [
      "(22768122, 4)\n",
      "(6505177, 4)\n",
      "(3252590, 4)\n"
     ]
    }
   ],
   "source": [
    "df = df.sample(frac=1, random_state=123)\n",
    "n_samples = df.shape[0]\n",
    "test_size = 0.2\n",
    "validation_size = 0.1\n",
    "n_training_samples = int(n_samples * (1-test_size-validation_size))\n",
    "n_testing_samples = int(n_samples * test_size)\n",
    "df_train, df_test, df_valid = df[:n_training_samples], df[n_training_samples:n_training_samples+n_testing_samples], df[n_training_samples+n_testing_samples:]\n",
    "print(df_train.shape)\n",
    "print(df_test.shape)\n",
    "print(df_valid.shape)"
   ],
   "metadata": {
    "collapsed": false
   }
  },
  {
   "cell_type": "markdown",
   "source": [
    "Convert user id and song id to values"
   ],
   "metadata": {
    "collapsed": false
   }
  },
  {
   "cell_type": "markdown",
   "source": [
    "### NeuCF\n",
    "\n",
    "I use the Optuna library to intelligently search a space of possible hyperparameters for the NeuCF model."
   ],
   "metadata": {
    "collapsed": false
   }
  },
  {
   "cell_type": "code",
   "execution_count": 11,
   "outputs": [
    {
     "name": "stderr",
     "output_type": "stream",
     "text": [
      "\u001B[32m[I 2023-04-29 01:02:31,173]\u001B[0m A new study created in memory with name: no-name-01ea1679-8f6a-478f-a16e-8dd98c043f28\u001B[0m\n",
      "\u001B[32m[I 2023-04-29 01:19:48,303]\u001B[0m Trial 0 finished with value: 0.8273029923439026 and parameters: {'MASK_ZERO': True, 'EMB_LATENT_OUT': 82, 'ACTIVATION': 'relu', 'DROPOUT': 0.05795448231717765, 'LEARNING_RATE': 0.012846857387813417, 'MLP_LAYERS': 1, 'BATCH_SIZE': 3100, 'EMB_R': None, 'EMB_INIT': 'he_normal', 'MLP_ARCH': 'dynamic', 'gmf_dense': 160}. Best is trial 0 with value: 0.8273029923439026.\u001B[0m\n",
      "\u001B[32m[I 2023-04-29 01:49:06,160]\u001B[0m Trial 1 finished with value: 0.826094388961792 and parameters: {'MASK_ZERO': True, 'EMB_LATENT_OUT': 146, 'ACTIVATION': 'relu', 'DROPOUT': 0.35407848389796365, 'LEARNING_RATE': 0.002167795678459833, 'MLP_LAYERS': 1, 'BATCH_SIZE': 2400, 'EMB_R': '0', 'EMB_INIT': 'he_normal', 'MLP_ARCH': 'same', 'gmf_dense': 248}. Best is trial 1 with value: 0.826094388961792.\u001B[0m\n",
      "C:\\ProgramData\\Anaconda3\\lib\\site-packages\\tensorflow\\python\\framework\\indexed_slices.py:439: UserWarning: Converting sparse IndexedSlices to a dense Tensor with 103853100 elements. This may consume a large amount of memory.\n",
      "  warnings.warn(\n",
      "\u001B[32m[I 2023-04-29 02:31:26,369]\u001B[0m Trial 2 finished with value: 0.8305913805961609 and parameters: {'MASK_ZERO': False, 'EMB_LATENT_OUT': 186, 'ACTIVATION': 'swish', 'DROPOUT': 0.4597422255635831, 'LEARNING_RATE': 0.0001465139956250564, 'MLP_LAYERS': 5, 'BATCH_SIZE': 4800, 'EMB_R': '1e-6', 'EMB_INIT': 'uniform', 'MLP_ARCH': 'same', 'gmf_dense': 600}. Best is trial 1 with value: 0.826094388961792.\u001B[0m\n",
      "\u001B[32m[I 2023-04-29 03:16:39,959]\u001B[0m Trial 3 finished with value: 0.8343709111213684 and parameters: {'MASK_ZERO': False, 'EMB_LATENT_OUT': 154, 'ACTIVATION': 'swish', 'DROPOUT': 0.17132091648801062, 'LEARNING_RATE': 4.141003197592143e-05, 'MLP_LAYERS': 2, 'BATCH_SIZE': 1600, 'EMB_R': None, 'EMB_INIT': 'he_normal', 'MLP_ARCH': 'same', 'gmf_dense': 352}. Best is trial 1 with value: 0.826094388961792.\u001B[0m\n",
      "\u001B[32m[I 2023-04-29 04:23:56,002]\u001B[0m Trial 4 finished with value: 0.9623624086380005 and parameters: {'MASK_ZERO': False, 'EMB_LATENT_OUT': 90, 'ACTIVATION': 'relu', 'DROPOUT': 0.011069172220769752, 'LEARNING_RATE': 0.07363088634423721, 'MLP_LAYERS': 3, 'BATCH_SIZE': 700, 'EMB_R': None, 'EMB_INIT': 'he_normal', 'MLP_ARCH': 'dynamic', 'gmf_dense': 152}. Best is trial 1 with value: 0.826094388961792.\u001B[0m\n",
      "\u001B[32m[I 2023-04-29 05:15:10,872]\u001B[0m Trial 5 finished with value: 3.4884209632873535 and parameters: {'MASK_ZERO': True, 'EMB_LATENT_OUT': 146, 'ACTIVATION': 'swish', 'DROPOUT': 0.3691498919892948, 'LEARNING_RATE': 0.07723408313156004, 'MLP_LAYERS': 5, 'BATCH_SIZE': 1600, 'EMB_R': None, 'EMB_INIT': 'he_normal', 'MLP_ARCH': 'same', 'gmf_dense': 208}. Best is trial 1 with value: 0.826094388961792.\u001B[0m\n",
      "\u001B[32m[I 2023-04-29 05:36:00,479]\u001B[0m Trial 6 finished with value: 0.8352417945861816 and parameters: {'MASK_ZERO': True, 'EMB_LATENT_OUT': 90, 'ACTIVATION': 'swish', 'DROPOUT': 0.018026748707051954, 'LEARNING_RATE': 9.164483898191409e-05, 'MLP_LAYERS': 2, 'BATCH_SIZE': 3000, 'EMB_R': None, 'EMB_INIT': 'he_normal', 'MLP_ARCH': 'same', 'gmf_dense': 928}. Best is trial 1 with value: 0.826094388961792.\u001B[0m\n",
      "\u001B[32m[I 2023-04-29 06:00:51,583]\u001B[0m Trial 7 finished with value: 0.854087769985199 and parameters: {'MASK_ZERO': False, 'EMB_LATENT_OUT': 90, 'ACTIVATION': 'swish', 'DROPOUT': 0.10218964694621596, 'LEARNING_RATE': 0.006539718558732359, 'MLP_LAYERS': 2, 'BATCH_SIZE': 3100, 'EMB_R': '1e-6', 'EMB_INIT': 'uniform', 'MLP_ARCH': 'same', 'gmf_dense': 744}. Best is trial 1 with value: 0.826094388961792.\u001B[0m\n",
      "C:\\ProgramData\\Anaconda3\\lib\\site-packages\\tensorflow\\python\\framework\\indexed_slices.py:439: UserWarning: Converting sparse IndexedSlices to a dense Tensor with 112786700 elements. This may consume a large amount of memory.\n",
      "  warnings.warn(\n",
      "\u001B[32m[I 2023-04-29 06:32:51,131]\u001B[0m Trial 8 finished with value: 0.9068840742111206 and parameters: {'MASK_ZERO': True, 'EMB_LATENT_OUT': 202, 'ACTIVATION': 'swish', 'DROPOUT': 0.3893815121013544, 'LEARNING_RATE': 0.054836677079257254, 'MLP_LAYERS': 3, 'BATCH_SIZE': 3900, 'EMB_R': '1e-6', 'EMB_INIT': 'he_normal', 'MLP_ARCH': 'same', 'gmf_dense': 88}. Best is trial 1 with value: 0.826094388961792.\u001B[0m\n",
      "C:\\ProgramData\\Anaconda3\\lib\\site-packages\\tensorflow\\python\\framework\\indexed_slices.py:439: UserWarning: Converting sparse IndexedSlices to a dense Tensor with 126187100 elements. This may consume a large amount of memory.\n",
      "  warnings.warn(\n",
      "\u001B[32m[I 2023-04-29 07:15:17,030]\u001B[0m Trial 9 finished with value: 0.8278172016143799 and parameters: {'MASK_ZERO': True, 'EMB_LATENT_OUT': 226, 'ACTIVATION': 'swish', 'DROPOUT': 0.4399411560595538, 'LEARNING_RATE': 0.0012588156407644085, 'MLP_LAYERS': 3, 'BATCH_SIZE': 2500, 'EMB_R': '0', 'EMB_INIT': 'he_normal', 'MLP_ARCH': 'same', 'gmf_dense': 184}. Best is trial 1 with value: 0.826094388961792.\u001B[0m\n",
      "\u001B[32m[I 2023-04-29 08:51:02,299]\u001B[0m Trial 10 pruned. Trial was pruned at epoch 3.\u001B[0m\n",
      "\u001B[32m[I 2023-04-29 08:54:39,186]\u001B[0m Trial 11 pruned. Trial was pruned at epoch 7.\u001B[0m\n",
      "\u001B[32m[I 2023-04-29 09:14:25,179]\u001B[0m Trial 12 finished with value: 0.8255185484886169 and parameters: {'MASK_ZERO': True, 'EMB_LATENT_OUT': 122, 'ACTIVATION': 'relu', 'DROPOUT': 0.2102646817063893, 'LEARNING_RATE': 0.008054196995578798, 'MLP_LAYERS': 1, 'BATCH_SIZE': 3800, 'EMB_R': '0', 'EMB_INIT': 'he_normal', 'MLP_ARCH': 'dynamic', 'gmf_dense': 24}. Best is trial 12 with value: 0.8255185484886169.\u001B[0m\n",
      "\u001B[32m[I 2023-04-29 09:31:00,237]\u001B[0m Trial 13 finished with value: 0.8236900568008423 and parameters: {'MASK_ZERO': True, 'EMB_LATENT_OUT': 130, 'ACTIVATION': 'relu', 'DROPOUT': 0.23211289131364532, 'LEARNING_RATE': 0.001192163732154585, 'MLP_LAYERS': 1, 'BATCH_SIZE': 4300, 'EMB_R': '0', 'EMB_INIT': 'he_normal', 'MLP_ARCH': 'dynamic', 'gmf_dense': 56}. Best is trial 13 with value: 0.8236900568008423.\u001B[0m\n",
      "\u001B[32m[I 2023-04-29 09:36:05,434]\u001B[0m Trial 14 pruned. Trial was pruned at epoch 3.\u001B[0m\n",
      "\u001B[32m[I 2023-04-29 09:39:12,602]\u001B[0m Trial 15 pruned. Trial was pruned at epoch 3.\u001B[0m\n",
      "\u001B[32m[I 2023-04-29 09:46:34,344]\u001B[0m Trial 16 pruned. Trial was pruned at epoch 3.\u001B[0m\n",
      "C:\\ProgramData\\Anaconda3\\lib\\site-packages\\tensorflow\\python\\framework\\indexed_slices.py:439: UserWarning: Converting sparse IndexedSlices to a dense Tensor with 139587500 elements. This may consume a large amount of memory.\n",
      "  warnings.warn(\n",
      "\u001B[32m[I 2023-04-29 10:18:00,828]\u001B[0m Trial 17 finished with value: 0.8266518712043762 and parameters: {'MASK_ZERO': True, 'EMB_LATENT_OUT': 250, 'ACTIVATION': 'relu', 'DROPOUT': 0.29714152785916503, 'LEARNING_RATE': 0.0038334937742707715, 'MLP_LAYERS': 4, 'BATCH_SIZE': 4400, 'EMB_R': '0', 'EMB_INIT': 'he_normal', 'MLP_ARCH': 'dynamic', 'gmf_dense': 544}. Best is trial 13 with value: 0.8236900568008423.\u001B[0m\n",
      "\u001B[32m[I 2023-04-29 10:39:01,521]\u001B[0m Trial 18 finished with value: 0.8233948349952698 and parameters: {'MASK_ZERO': False, 'EMB_LATENT_OUT': 130, 'ACTIVATION': 'relu', 'DROPOUT': 0.2217647176591516, 'LEARNING_RATE': 0.0014152882106222959, 'MLP_LAYERS': 2, 'BATCH_SIZE': 3600, 'EMB_R': '0', 'EMB_INIT': 'uniform', 'MLP_ARCH': 'dynamic', 'gmf_dense': 992}. Best is trial 18 with value: 0.8233948349952698.\u001B[0m\n",
      "\u001B[32m[I 2023-04-29 10:49:18,257]\u001B[0m Trial 19 pruned. Trial was pruned at epoch 3.\u001B[0m\n",
      "\u001B[32m[I 2023-04-29 11:05:32,149]\u001B[0m Trial 20 finished with value: 0.8272360563278198 and parameters: {'MASK_ZERO': False, 'EMB_LATENT_OUT': 58, 'ACTIVATION': 'relu', 'DROPOUT': 0.13746676855764967, 'LEARNING_RATE': 0.0014456991964183561, 'MLP_LAYERS': 2, 'BATCH_SIZE': 4500, 'EMB_R': '1e-6', 'EMB_INIT': 'uniform', 'MLP_ARCH': 'dynamic', 'gmf_dense': 776}. Best is trial 18 with value: 0.8233948349952698.\u001B[0m\n"
     ]
    },
    {
     "name": "stdout",
     "output_type": "stream",
     "text": [
      "Number of finished trials: 21\n",
      "Best trial:\n",
      "  Value: 0.8233948349952698\n",
      "  Params: \n",
      "    MASK_ZERO: False\n",
      "    EMB_LATENT_OUT: 130\n",
      "    ACTIVATION: relu\n",
      "    DROPOUT: 0.2217647176591516\n",
      "    LEARNING_RATE: 0.0014152882106222959\n",
      "    MLP_LAYERS: 2\n",
      "    BATCH_SIZE: 3600\n",
      "    EMB_R: 0\n",
      "    EMB_INIT: uniform\n",
      "    MLP_ARCH: dynamic\n",
      "    gmf_dense: 992\n"
     ]
    }
   ],
   "source": [
    "def gpu_cleanup(objects):\n",
    "    \"\"\"Helps clean up things to prevent OOM during long training sessions\"\"\"\n",
    "    if objects:\n",
    "        del(objects)\n",
    "    k.clear_session()\n",
    "    gc.collect()\n",
    "\n",
    "\n",
    "def objective(trial):\n",
    "\n",
    "    MASK_ZERO = trial.suggest_categorical(\"MASK_ZERO\", [True, False])\n",
    "    EMB_LATENT_OUT = trial.suggest_int(\"EMB_LATENT_OUT\", 2, 250, step=8)\n",
    "    ACTIVATION = trial.suggest_categorical(\"ACTIVATION\", ['relu', 'swish'])\n",
    "    DROPOUT = trial.suggest_float(\"DROPOUT\", 0, 0.5)\n",
    "    LEARNING_RATE = trial.suggest_float(\"LEARNING_RATE\", 1e-5, 1e-1, log=True)\n",
    "    MLP_LAYERS = trial.suggest_int(\"MLP_LAYERS\", 1, 5)\n",
    "    BATCH_SIZE = trial.suggest_int(\"BATCH_SIZE\", 100, 5000, step=100)\n",
    "    EMB_R = trial.suggest_categorical(\"EMB_R\", [None, '0', '1e-6'])\n",
    "    if EMB_R is not None:\n",
    "        EMB_R = regularizers.L2(float(EMB_R))\n",
    "    EMB_INIT = trial.suggest_categorical(\"EMB_INIT\", [\"he_normal\", \"uniform\"])\n",
    "    MLP_ARCH = trial.suggest_categorical(\"MLP_ARCH\", [\"same\", \"dynamic\"])\n",
    "    GMF_DENSE = trial.suggest_int(\"gmf_dense\", 16, 1024, step=8)\n",
    "\n",
    "    user_in = Input(name='user_in', shape=(1,))\n",
    "    song_in = Input(name='song_in', shape=(1,))\n",
    "    # User attributes\n",
    "    user_embedding = Embedding(name = 'u_emb_gmf', embeddings_regularizer=EMB_R, input_dim = n_users, output_dim = EMB_LATENT_OUT, mask_zero=MASK_ZERO, embeddings_initializer=EMB_INIT)(user_in)\n",
    "\n",
    "    # Song Attributes\n",
    "    book_embedding = Embedding(name = 'book_emb_gmf', embeddings_regularizer=EMB_R, input_dim = n_songs, output_dim = EMB_LATENT_OUT, mask_zero=MASK_ZERO, embeddings_initializer=EMB_INIT)(song_in)\n",
    "\n",
    "    x = tf.keras.layers.concatenate([user_embedding, book_embedding])\n",
    "    x = Flatten()(x)\n",
    "    x = Dropout(DROPOUT)(x)\n",
    "    if MLP_ARCH == 'dynamic':  # Goes from large to small\n",
    "        x = Dense(GMF_DENSE, activation=ACTIVATION, kernel_regularizer=EMB_R)(x)\n",
    "        x = Dropout(DROPOUT)(x)\n",
    "        #x = BatchNormalization()(x)\n",
    "        if MLP_LAYERS > 1:\n",
    "            for i in range(MLP_LAYERS-1):\n",
    "                x = BatchNormalization()(x)\n",
    "                x = Dense(np.ceil(GMF_DENSE * (1 / (2 ** (i+1)))), activation=ACTIVATION, kernel_regularizer=EMB_R)(x)\n",
    "                x = Dropout(DROPOUT)(x)\n",
    "    else:  # Stays same size\n",
    "        for _ in range(MLP_LAYERS):\n",
    "            x = BatchNormalization()(x)\n",
    "            x = Dense(GMF_DENSE, activation=ACTIVATION, kernel_regularizer=EMB_R)(x)\n",
    "            x = Dropout(DROPOUT)(x)\n",
    "    x = Dense(1)(x)\n",
    "    model = Model(inputs=[user_in, song_in], outputs=x)\n",
    "\n",
    "\n",
    "    model.compile(\n",
    "        optimizer=tf.keras.optimizers.Adam(learning_rate=LEARNING_RATE),\n",
    "        loss='mse',\n",
    "        metrics=[tf.keras.metrics.RootMeanSquaredError()])\n",
    "\n",
    "    early_stopping = tf.keras.callbacks.EarlyStopping(patience=5,\n",
    "                                                      restore_best_weights=True,\n",
    "                                                      monitor='val_root_mean_squared_error',\n",
    "                                                      verbose=0,\n",
    "                                                      mode='min',\n",
    "                                                      min_delta=0.001)\n",
    "\n",
    "    train_inputs = {'user_in':df_train['user_id'], 'song_in':df_train['song_id']}\n",
    "    # Model training\n",
    "\n",
    "    _ = model.fit(\n",
    "        x=train_inputs,\n",
    "        y=df_train['rating'],\n",
    "        batch_size=BATCH_SIZE,\n",
    "        epochs=100,\n",
    "        verbose=0,\n",
    "        validation_split=0.25,\n",
    "        callbacks=[early_stopping, optuna.integration.TFKerasPruningCallback(trial, monitor='val_root_mean_squared_error')]\n",
    "    )\n",
    "\n",
    "    validation_inputs = {'user_in':df_valid['user_id'], 'song_in':df_valid['song_id']}\n",
    "    results = model.evaluate(validation_inputs, df_valid['rating'], verbose=0)\n",
    "\n",
    "    # Remove excess stuff\n",
    "    gpu_cleanup([model, train_inputs, validation_inputs])\n",
    "\n",
    "    return results[1]\n",
    "\n",
    "# Using optuna\n",
    "study = optuna.create_study(direction=\"minimize\",\n",
    "                            sampler=optuna.samplers.TPESampler(),  # Using TPE (Tree-structured Parzen Estimator) sampler\n",
    "                            pruner=optuna.pruners.MedianPruner(n_startup_trials=10,  # Doesn't start pruning trials till at least 10 have completed\n",
    "                                                               n_warmup_steps=3,   # Lets each model run at least 3 EPOCHS before stopping\n",
    "                                                               interval_steps=1))  # Checks after each epoch of the validation score is not within the median\n",
    "study.optimize(objective, n_trials=100, timeout=36000)\n",
    "\n",
    "print(\"Number of finished trials: {}\".format(len(study.trials)))\n",
    "\n",
    "print(\"Best trial:\")\n",
    "trial = study.best_trial\n",
    "\n",
    "print(\"  Value: {}\".format(trial.value))\n",
    "\n",
    "print(\"  Params: \")\n",
    "for key, value in trial.params.items():\n",
    "    print(\"    {}: {}\".format(key, value))"
   ],
   "metadata": {
    "collapsed": false
   }
  },
  {
   "cell_type": "markdown",
   "source": [
    "Evaluate the best model by retraining on both training and validation data"
   ],
   "metadata": {
    "collapsed": false
   }
  },
  {
   "cell_type": "code",
   "execution_count": 14,
   "outputs": [
    {
     "name": "stdout",
     "output_type": "stream",
     "text": [
      "Model: \"model\"\n",
      "__________________________________________________________________________________________________\n",
      "Layer (type)                    Output Shape         Param #     Connected to                     \n",
      "==================================================================================================\n",
      "user_in (InputLayer)            [(None, 1)]          0                                            \n",
      "__________________________________________________________________________________________________\n",
      "song_in (InputLayer)            [(None, 1)]          0                                            \n",
      "__________________________________________________________________________________________________\n",
      "u_emb_gmf (Embedding)           (None, 1, 130)       72585500    user_in[0][0]                    \n",
      "__________________________________________________________________________________________________\n",
      "book_emb_gmf (Embedding)        (None, 1, 130)       4730050     song_in[0][0]                    \n",
      "__________________________________________________________________________________________________\n",
      "concatenate (Concatenate)       (None, 1, 260)       0           u_emb_gmf[0][0]                  \n",
      "                                                                 book_emb_gmf[0][0]               \n",
      "__________________________________________________________________________________________________\n",
      "flatten (Flatten)               (None, 260)          0           concatenate[0][0]                \n",
      "__________________________________________________________________________________________________\n",
      "dropout (Dropout)               (None, 260)          0           flatten[0][0]                    \n",
      "__________________________________________________________________________________________________\n",
      "dense (Dense)                   (None, 992)          258912      dropout[0][0]                    \n",
      "__________________________________________________________________________________________________\n",
      "dropout_1 (Dropout)             (None, 992)          0           dense[0][0]                      \n",
      "__________________________________________________________________________________________________\n",
      "batch_normalization (BatchNorma (None, 992)          3968        dropout_1[0][0]                  \n",
      "__________________________________________________________________________________________________\n",
      "dense_1 (Dense)                 (None, 496)          492528      batch_normalization[0][0]        \n",
      "__________________________________________________________________________________________________\n",
      "dropout_2 (Dropout)             (None, 496)          0           dense_1[0][0]                    \n",
      "__________________________________________________________________________________________________\n",
      "dense_2 (Dense)                 (None, 1)            497         dropout_2[0][0]                  \n",
      "==================================================================================================\n",
      "Total params: 78,071,455\n",
      "Trainable params: 78,069,471\n",
      "Non-trainable params: 1,984\n",
      "__________________________________________________________________________________________________\n",
      "Epoch 1/100\n",
      "5421/5421 [==============================] - 145s 26ms/step - loss: 0.7436 - root_mean_squared_error: 0.8623 - val_loss: 0.6975 - val_root_mean_squared_error: 0.8352\n",
      "Epoch 2/100\n",
      "5421/5421 [==============================] - 141s 26ms/step - loss: 0.6709 - root_mean_squared_error: 0.8191 - val_loss: 0.6775 - val_root_mean_squared_error: 0.8231\n",
      "Epoch 3/100\n",
      "5421/5421 [==============================] - 140s 26ms/step - loss: 0.6227 - root_mean_squared_error: 0.7891 - val_loss: 0.6735 - val_root_mean_squared_error: 0.8207\n",
      "Epoch 4/100\n",
      "5421/5421 [==============================] - 145s 27ms/step - loss: 0.5621 - root_mean_squared_error: 0.7497 - val_loss: 0.6804 - val_root_mean_squared_error: 0.8249\n",
      "Epoch 5/100\n",
      "5421/5421 [==============================] - 142s 26ms/step - loss: 0.4969 - root_mean_squared_error: 0.7049 - val_loss: 0.6998 - val_root_mean_squared_error: 0.8365\n",
      "Epoch 6/100\n",
      "5421/5421 [==============================] - 142s 26ms/step - loss: 0.4423 - root_mean_squared_error: 0.6651 - val_loss: 0.7271 - val_root_mean_squared_error: 0.8527\n",
      "Epoch 7/100\n",
      "5421/5421 [==============================] - 142s 26ms/step - loss: 0.4005 - root_mean_squared_error: 0.6329 - val_loss: 0.7417 - val_root_mean_squared_error: 0.8612\n",
      "Epoch 8/100\n",
      "5421/5421 [==============================] - 141s 26ms/step - loss: 0.3687 - root_mean_squared_error: 0.6072 - val_loss: 0.7580 - val_root_mean_squared_error: 0.8706\n"
     ]
    },
    {
     "data": {
      "text/plain": "[0.6730138659477234, 0.8203741908073425]"
     },
     "execution_count": 14,
     "metadata": {},
     "output_type": "execute_result"
    }
   ],
   "source": [
    "best_params = study.best_trial.params\n",
    "\n",
    "def build_ncf(**kwargs):\n",
    "    MASK_ZERO = kwargs['MASK_ZERO']\n",
    "    EMB_LATENT_OUT = kwargs[\"EMB_LATENT_OUT\"]\n",
    "    ACTIVATION = kwargs[\"ACTIVATION\"]\n",
    "    DROPOUT = kwargs[\"DROPOUT\"]\n",
    "    LEARNING_RATE = kwargs[\"LEARNING_RATE\"]\n",
    "    MLP_LAYERS = kwargs[\"MLP_LAYERS\"]\n",
    "    BATCH_SIZE = kwargs[\"BATCH_SIZE\"]\n",
    "    EMB_R = kwargs[\"EMB_R\"]\n",
    "    if EMB_R is not None:\n",
    "        EMB_R = regularizers.L2(float(EMB_R))\n",
    "    EMB_INIT = kwargs[\"EMB_INIT\"]\n",
    "    MLP_ARCH = kwargs[\"MLP_ARCH\"]\n",
    "    GMF_DENSE = kwargs[\"gmf_dense\"]\n",
    "    k.clear_session()\n",
    "\n",
    "    user_in = Input(name='user_in', shape=(1,))\n",
    "    song_in = Input(name='song_in', shape=(1,))\n",
    "    # User attributes\n",
    "    user_embedding = Embedding(name = 'u_emb_gmf', embeddings_regularizer=EMB_R, input_dim = n_users, output_dim = EMB_LATENT_OUT, mask_zero=MASK_ZERO, embeddings_initializer=EMB_INIT)(user_in)\n",
    "\n",
    "    # Song Attributes\n",
    "    book_embedding = Embedding(name = 'book_emb_gmf', embeddings_regularizer=EMB_R, input_dim = n_songs, output_dim = EMB_LATENT_OUT, mask_zero=MASK_ZERO, embeddings_initializer=EMB_INIT)(song_in)\n",
    "\n",
    "    x = tf.keras.layers.concatenate([user_embedding, book_embedding])\n",
    "    x = Flatten()(x)\n",
    "    x = Dropout(DROPOUT)(x)\n",
    "    if MLP_ARCH == 'dynamic':  # Goes from large to small\n",
    "        x = Dense(GMF_DENSE, activation=ACTIVATION, kernel_regularizer=EMB_R)(x)\n",
    "        x = Dropout(DROPOUT)(x)\n",
    "        if MLP_LAYERS > 1:\n",
    "            for i in range(MLP_LAYERS-1):\n",
    "                x = BatchNormalization()(x)\n",
    "                x = Dense(np.ceil(GMF_DENSE * (1 / (2 ** (i+1)))), activation=ACTIVATION, kernel_regularizer=EMB_R)(x)\n",
    "                x = Dropout(DROPOUT)(x)\n",
    "    else:  # Stays same size\n",
    "        for _ in range(MLP_LAYERS):\n",
    "            x = BatchNormalization()(x)\n",
    "            x = Dense(GMF_DENSE, activation=ACTIVATION, kernel_regularizer=EMB_R)(x)\n",
    "            x = Dropout(DROPOUT)(x)\n",
    "    x = Dense(1)(x)\n",
    "    return Model(inputs=[user_in, song_in], outputs=x)\n",
    "\n",
    "model = build_ncf(**best_params)\n",
    "\n",
    "model.compile(\n",
    "    optimizer=tf.keras.optimizers.Adam(learning_rate=best_params['LEARNING_RATE']),\n",
    "    loss='mse',\n",
    "    metrics=[tf.keras.metrics.RootMeanSquaredError()])\n",
    "\n",
    "early_stopping = tf.keras.callbacks.EarlyStopping(patience=5,\n",
    "                                                    restore_best_weights=True,\n",
    "                                                    monitor='val_root_mean_squared_error',\n",
    "                                                    verbose=0,\n",
    "                                                    mode='min',\n",
    "                                                    min_delta=0.001)\n",
    "\n",
    "dict_inputs = {'user_in':pd.concat([df_train['user_id'],\n",
    "                                    df_valid['user_id']]),\n",
    "               'song_in':pd.concat([df_train['song_id'],\n",
    "                                    df_valid['song_id']])}\n",
    "# Model training\n",
    "\n",
    "model.summary()\n",
    "\n",
    "_ = model.fit(\n",
    "    x=dict_inputs,\n",
    "    y=pd.concat([df_train['rating'], df_valid['rating']]),\n",
    "    batch_size=best_params['BATCH_SIZE'],\n",
    "    epochs=100,\n",
    "    verbose=1,\n",
    "    validation_split=0.25,\n",
    "    callbacks=[early_stopping]\n",
    ")\n",
    "\n",
    "validation_inputs = {'user_in':df_test['user_id'], 'song_in':df_test['song_id']}\n",
    "\n",
    "results = model.evaluate(validation_inputs, df_test['rating'], verbose=1)\n",
    "results"
   ],
   "metadata": {
    "collapsed": false
   }
  },
  {
   "cell_type": "markdown",
   "source": [
    "Testing RMSE was 0.8203"
   ],
   "metadata": {
    "collapsed": false
   }
  },
  {
   "cell_type": "code",
   "execution_count": 20,
   "outputs": [
    {
     "data": {
      "image/png": "[encoded data removed]",
      "text/plain": "<IPython.core.display.Image object>"
     },
     "execution_count": 20,
     "metadata": {},
     "output_type": "execute_result"
    }
   ],
   "source": [
    "tf.keras.utils.plot_model(model, show_shapes=True, show_layer_names=False)"
   ],
   "metadata": {
    "collapsed": false
   }
  },
  {
   "cell_type": "markdown",
   "source": [
    "### SVD"
   ],
   "metadata": {
    "collapsed": false
   }
  },
  {
   "cell_type": "code",
   "execution_count": 38,
   "outputs": [],
   "source": [
    "# Creating a training and testing dataset.\n",
    "# The training set is a combining the df_train and df_valid dataset. This we still model using the same data as the NeuCF model\n",
    "reader = Reader(rating_scale=(0,4))\n",
    "train_data = Dataset.load_from_df(pd.concat([df_train, df_valid])[['user_id', 'song_id', 'rating']], reader)"
   ],
   "metadata": {
    "collapsed": false
   }
  },
  {
   "cell_type": "code",
   "execution_count": 39,
   "outputs": [],
   "source": [
    "### Fitting a default SVD model\n",
    "algo = SVD()\n",
    "predictions = algo.fit(train_data.build_full_trainset())"
   ],
   "metadata": {
    "collapsed": false
   }
  },
  {
   "cell_type": "code",
   "execution_count": 40,
   "outputs": [
    {
     "data": {
      "text/plain": "0.8137737013568864"
     },
     "execution_count": 40,
     "metadata": {},
     "output_type": "execute_result"
    }
   ],
   "source": [
    "### Making predictions on the testing dataset\n",
    "y_true = []\n",
    "svd_pred = []\n",
    "for row in df_test[['user_id', 'song_id', 'rating']].itertuples():\n",
    "    pred = algo.predict(uid=row.user_id, iid=row.song_id, r_ui=None).est\n",
    "    svd_pred.append(pred)\n",
    "    y_true.append(row.rating)\n",
    "\n",
    "mean_squared_error(y_true, svd_pred, squared=False)"
   ],
   "metadata": {
    "collapsed": false
   }
  },
  {
   "cell_type": "markdown",
   "source": [
    "RMSE of SVD is 0.8137737013568864\n",
    "RMSE of NeuCF is 0.8203741908073425\n",
    "\n",
    "SVD beat the computationally expensive and large NeuCF model."
   ],
   "metadata": {
    "collapsed": false
   }
  },
  {
   "cell_type": "markdown",
   "source": [
    "### Combining SVD and NeuCF\n",
    "\n",
    "By combining the diversity of SVD and NeuCF together, we achieve a lower RMSE score"
   ],
   "metadata": {
    "collapsed": false
   }
  },
  {
   "cell_type": "code",
   "execution_count": 73,
   "outputs": [
    {
     "name": "stdout",
     "output_type": "stream",
     "text": [
      "203287/203287 [==============================] - 243s 1ms/step\n"
     ]
    },
    {
     "data": {
      "text/plain": "6505177"
     },
     "execution_count": 73,
     "metadata": {},
     "output_type": "execute_result"
    }
   ],
   "source": [
    "# Getting NeuCF predictions\n",
    "nue_cf_pred = model.predict({'user_in':df_test['user_id'], 'song_in':df_test['song_id']}, verbose=1)\n",
    "nue_cf_pred.shape[0]"
   ],
   "metadata": {
    "collapsed": false
   }
  },
  {
   "cell_type": "markdown",
   "source": [
    "Checking the portion of SVD and NeuCF predictions help more to reduce RMSE.\n",
    "\n",
    "We do this by modifying the weighted portion of predictions towards the test RMSE"
   ],
   "metadata": {
    "collapsed": false
   }
  },
  {
   "cell_type": "code",
   "execution_count": 81,
   "outputs": [
    {
     "name": "stdout",
     "output_type": "stream",
     "text": [
      "Alpha 0, RMSE: 0.8203764286681468\n",
      "Alpha 0.1, RMSE: 0.8147782224877447\n",
      "Alpha 0.2, RMSE: 0.8102493770410829\n",
      "Alpha 0.3, RMSE: 0.8068078990080015\n",
      "Alpha 0.4, RMSE: 0.8044677445319819\n",
      "Alpha 0.5, RMSE: 0.8032385391886814\n",
      "Alpha 0.6, RMSE: 0.8031253839627823\n",
      "Alpha 0.7, RMSE: 0.8041287500442131\n",
      "Alpha 0.8, RMSE: 0.806244469132771\n",
      "Alpha 0.9, RMSE: 0.8094638188945862\n",
      "Alpha 1, RMSE: 0.813773701338681\n",
      "Lowest RMSE 0.8031 with alpha 6\n"
     ]
    }
   ],
   "source": [
    "alpha = [0, 0.1, 0.2, 0.3, 0.4, 0.5, 0.6, 0.7, 0.8, 0.9, 1]\n",
    "\n",
    "combined_rmse = []\n",
    "for a in alpha:\n",
    "    combined_pred = []\n",
    "    svd_portion = a\n",
    "    nue_cf_portion = (1 - a)\n",
    "    for idx in range(nue_cf_pred.shape[0]):  # Probably a faster way to do this with vectorized operations ¯\\_(ツ)_/¯\n",
    "        combined_pred.append((nue_cf_pred[idx] * nue_cf_portion) + (svd_pred[idx] * svd_portion))\n",
    "\n",
    "    rmse = mean_squared_error(y_true, combined_pred, squared=False)\n",
    "    print(f'Alpha {a}, RMSE: {rmse}')\n",
    "    combined_rmse.append(rmse)\n",
    "\n",
    "lowest_rmse = np.min(combined_rmse)\n",
    "print(f\"Lowest RMSE {round(lowest_rmse, 4)} with alpha {alpha[np.argmin(combined_rmse)]}\")"
   ],
   "metadata": {
    "collapsed": false
   }
  },
  {
   "cell_type": "markdown",
   "source": [
    "**Checking against the mean value of test data baseline**\n",
    "\n",
    "For a baseline comparison, we compare the RMSE of the mean value for the testing data against itself. We then compare that RMSE value against the RMSE of combining SVD and NeuCF."
   ],
   "metadata": {
    "collapsed": false
   }
  },
  {
   "cell_type": "code",
   "execution_count": 83,
   "outputs": [
    {
     "name": "stdout",
     "output_type": "stream",
     "text": [
      "Improvement Over Mean Baseline: 14.6%\n"
     ]
    }
   ],
   "source": [
    "mean_rmse = mean_squared_error(\n",
    "    df_test['rating'], [df_test['rating'].mean()] * df_test['rating'].shape[0], squared=False\n",
    ")\n",
    "percent_improvement = round((1 - (lowest_rmse / mean_rmse)) * 100, 1)\n",
    "print(f\"Improvement Over Mean Baseline: {percent_improvement}%\")"
   ],
   "metadata": {
    "collapsed": false
   }
  },
  {
   "cell_type": "code",
   "execution_count": 85,
   "outputs": [
    {
     "name": "stdout",
     "output_type": "stream",
     "text": [
      "Improvement Over Only SVD: 1.3%\n"
     ]
    }
   ],
   "source": [
    "percent_improvement = round((1 - (lowest_rmse / mean_squared_error(y_true, svd_pred, squared=False))) * 100, 1)\n",
    "print(f\"Improvement Over Only SVD: {percent_improvement}%\")"
   ],
   "metadata": {
    "collapsed": false
   }
  },
  {
   "cell_type": "code",
   "execution_count": 88,
   "outputs": [
    {
     "name": "stdout",
     "output_type": "stream",
     "text": [
      "Improvement Over Only SVD: 2.1%\n"
     ]
    }
   ],
   "source": [
    "percent_improvement = round((1 - (lowest_rmse / mean_squared_error(y_true, nue_cf_pred, squared=False))) * 100, 1)\n",
    "print(f\"Improvement Over Only SVD: {percent_improvement}%\")"
   ],
   "metadata": {
    "collapsed": false
   }
  }
 ],
 "metadata": {
  "kernelspec": {
   "display_name": "Python 3",
   "language": "python",
   "name": "python3"
  },
  "language_info": {
   "codemirror_mode": {
    "name": "ipython",
    "version": 2
   },
   "file_extension": ".py",
   "mimetype": "text/x-python",
   "name": "python",
   "nbconvert_exporter": "python",
   "pygments_lexer": "ipython2",
   "version": "2.7.6"
  }
 },
 "nbformat": 4,
 "nbformat_minor": 0
}
