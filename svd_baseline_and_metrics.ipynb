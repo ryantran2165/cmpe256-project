{
 "cells": [
  {
   "cell_type": "code",
   "execution_count": 2,
   "metadata": {
    "collapsed": true
   },
   "outputs": [],
   "source": [
    "from surprise import Dataset\n",
    "from surprise import Reader\n",
    "import pandas as pd\n",
    "import numpy as np\n",
    "from surprise import SVD\n",
    "from surprise.model_selection import train_test_split\n",
    "from surprise import accuracy\n",
    "from collections import defaultdict\n",
    "import time"
   ]
  },
  {
   "cell_type": "markdown",
   "source": [
    "Loading data"
   ],
   "metadata": {
    "collapsed": false
   }
  },
  {
   "cell_type": "code",
   "execution_count": 3,
   "outputs": [
    {
     "data": {
      "text/plain": "                                       user             song_id  play_count\n0  b80344d063b5ccb3212f76538f3d9e43d87dca9e  SOAKIMP12A8C130995           1\n1  b80344d063b5ccb3212f76538f3d9e43d87dca9e  SOAPDEY12A81C210A9           1\n2  b80344d063b5ccb3212f76538f3d9e43d87dca9e  SOBBMDR12A8C13253B           2\n3  b80344d063b5ccb3212f76538f3d9e43d87dca9e  SOBFNSP12AF72A0E22           1\n4  b80344d063b5ccb3212f76538f3d9e43d87dca9e  SOBFOVM12A58A7D494           1",
      "text/html": "<div>\n<style scoped>\n    .dataframe tbody tr th:only-of-type {\n        vertical-align: middle;\n    }\n\n    .dataframe tbody tr th {\n        vertical-align: top;\n    }\n\n    .dataframe thead th {\n        text-align: right;\n    }\n</style>\n<table border=\"1\" class=\"dataframe\">\n  <thead>\n    <tr style=\"text-align: right;\">\n      <th></th>\n      <th>user</th>\n      <th>song_id</th>\n      <th>play_count</th>\n    </tr>\n  </thead>\n  <tbody>\n    <tr>\n      <th>0</th>\n      <td>b80344d063b5ccb3212f76538f3d9e43d87dca9e</td>\n      <td>SOAKIMP12A8C130995</td>\n      <td>1</td>\n    </tr>\n    <tr>\n      <th>1</th>\n      <td>b80344d063b5ccb3212f76538f3d9e43d87dca9e</td>\n      <td>SOAPDEY12A81C210A9</td>\n      <td>1</td>\n    </tr>\n    <tr>\n      <th>2</th>\n      <td>b80344d063b5ccb3212f76538f3d9e43d87dca9e</td>\n      <td>SOBBMDR12A8C13253B</td>\n      <td>2</td>\n    </tr>\n    <tr>\n      <th>3</th>\n      <td>b80344d063b5ccb3212f76538f3d9e43d87dca9e</td>\n      <td>SOBFNSP12AF72A0E22</td>\n      <td>1</td>\n    </tr>\n    <tr>\n      <th>4</th>\n      <td>b80344d063b5ccb3212f76538f3d9e43d87dca9e</td>\n      <td>SOBFOVM12A58A7D494</td>\n      <td>1</td>\n    </tr>\n  </tbody>\n</table>\n</div>"
     },
     "execution_count": 3,
     "metadata": {},
     "output_type": "execute_result"
    }
   ],
   "source": [
    "df = pd.read_csv('train_triplets.txt/train_triplets.txt',\n",
    "                 delim_whitespace='\\t', header=None, names=['user', 'song_id', 'play_count'])\n",
    "df.head()"
   ],
   "metadata": {
    "collapsed": false
   }
  },
  {
   "cell_type": "markdown",
   "source": [
    "Transforming play_count to 0 if user only listened to song once and 1 if listened more than once"
   ],
   "metadata": {
    "collapsed": false
   }
  },
  {
   "cell_type": "code",
   "execution_count": 4,
   "outputs": [
    {
     "data": {
      "text/plain": "                                       user             song_id  play_count  \\\n0  b80344d063b5ccb3212f76538f3d9e43d87dca9e  SOAKIMP12A8C130995           1   \n1  b80344d063b5ccb3212f76538f3d9e43d87dca9e  SOAPDEY12A81C210A9           1   \n2  b80344d063b5ccb3212f76538f3d9e43d87dca9e  SOBBMDR12A8C13253B           2   \n3  b80344d063b5ccb3212f76538f3d9e43d87dca9e  SOBFNSP12AF72A0E22           1   \n4  b80344d063b5ccb3212f76538f3d9e43d87dca9e  SOBFOVM12A58A7D494           1   \n\n   liked  \n0      0  \n1      0  \n2      1  \n3      0  \n4      0  ",
      "text/html": "<div>\n<style scoped>\n    .dataframe tbody tr th:only-of-type {\n        vertical-align: middle;\n    }\n\n    .dataframe tbody tr th {\n        vertical-align: top;\n    }\n\n    .dataframe thead th {\n        text-align: right;\n    }\n</style>\n<table border=\"1\" class=\"dataframe\">\n  <thead>\n    <tr style=\"text-align: right;\">\n      <th></th>\n      <th>user</th>\n      <th>song_id</th>\n      <th>play_count</th>\n      <th>liked</th>\n    </tr>\n  </thead>\n  <tbody>\n    <tr>\n      <th>0</th>\n      <td>b80344d063b5ccb3212f76538f3d9e43d87dca9e</td>\n      <td>SOAKIMP12A8C130995</td>\n      <td>1</td>\n      <td>0</td>\n    </tr>\n    <tr>\n      <th>1</th>\n      <td>b80344d063b5ccb3212f76538f3d9e43d87dca9e</td>\n      <td>SOAPDEY12A81C210A9</td>\n      <td>1</td>\n      <td>0</td>\n    </tr>\n    <tr>\n      <th>2</th>\n      <td>b80344d063b5ccb3212f76538f3d9e43d87dca9e</td>\n      <td>SOBBMDR12A8C13253B</td>\n      <td>2</td>\n      <td>1</td>\n    </tr>\n    <tr>\n      <th>3</th>\n      <td>b80344d063b5ccb3212f76538f3d9e43d87dca9e</td>\n      <td>SOBFNSP12AF72A0E22</td>\n      <td>1</td>\n      <td>0</td>\n    </tr>\n    <tr>\n      <th>4</th>\n      <td>b80344d063b5ccb3212f76538f3d9e43d87dca9e</td>\n      <td>SOBFOVM12A58A7D494</td>\n      <td>1</td>\n      <td>0</td>\n    </tr>\n  </tbody>\n</table>\n</div>"
     },
     "execution_count": 4,
     "metadata": {},
     "output_type": "execute_result"
    }
   ],
   "source": [
    "df['liked'] = df['play_count'].apply(lambda x: x > 1).astype(int)\n",
    "df.head()"
   ],
   "metadata": {
    "collapsed": false
   }
  },
  {
   "cell_type": "markdown",
   "source": [
    "Precision@K and Recall@K"
   ],
   "metadata": {
    "collapsed": false
   }
  },
  {
   "cell_type": "code",
   "execution_count": 5,
   "outputs": [],
   "source": [
    "def precision_recall_at_k(predictions, k=10, threshold=0.5, input_kind='suprise'):\n",
    "    \"\"\"\n",
    "    Return precision and recall at k metrics for each user\n",
    "\n",
    "    Parameters\n",
    "    ----------\n",
    "    predictions: Surprise Dataset or pd.DataFrame\n",
    "        Predictions made from surprise dataset object or pandas dataframe\n",
    "    k: int\n",
    "        Number of top predictions to evaluate\n",
    "    threshold: float\n",
    "        Threshold for valid prediction or not\n",
    "    input_kind: str\n",
    "        Determines if predictions is a Surprise Data object or pandas dataframe\n",
    "\n",
    "    Returns\n",
    "    -------\n",
    "        tuple(dict[user_id] = precision, dict[user_id] = recall)\n",
    "            Dictionary with precision and recall for each user\n",
    "\n",
    "    Note\n",
    "    ----\n",
    "    If predicting with custom input (not suprise predictions),\n",
    "    data must be in the format of a 3 column pandas df or np.array\n",
    "    where each sample structure is:\n",
    "\n",
    "    [user_id, item, rating]\n",
    "\n",
    "    Code adapted from: https://github.com/NicolasHug/Surprise/blob/master/examples/precision_recall_at_k.py\n",
    "    \"\"\"\n",
    "\n",
    "    # First map the predictions to each user.\n",
    "    user_est_true = defaultdict(list)\n",
    "    if input_kind == 'suprise':\n",
    "        for uid, _, true_r, est, _ in predictions:\n",
    "            user_est_true[uid].append((est, true_r))\n",
    "    else:  # If predicting with custom input\n",
    "        for uid, true_r, est in predictions:\n",
    "            user_est_true[uid].append((est, true_r))\n",
    "\n",
    "    precisions = dict()\n",
    "    recalls = dict()\n",
    "    for uid, user_ratings in user_est_true.items():\n",
    "\n",
    "        # Sort user ratings by estimated value\n",
    "        user_ratings.sort(key=lambda x: x[0], reverse=True)\n",
    "\n",
    "        # Number of relevant items\n",
    "        n_rel = sum((true_r >= threshold) for (_, true_r) in user_ratings)\n",
    "\n",
    "        # Number of recommended items in top k\n",
    "        n_rec_k = sum((est >= threshold) for (est, _) in user_ratings[:k])\n",
    "\n",
    "        # Number of relevant and recommended items in top k\n",
    "        n_rel_and_rec_k = sum(\n",
    "            ((true_r >= threshold) and (est >= threshold))  # Item is recommended and actually recommended\n",
    "            for (est, true_r) in user_ratings[:k]  # For top k recommended items\n",
    "        )\n",
    "\n",
    "        # Precision@K: Proportion of recommended items that are relevant\n",
    "        # When n_rec_k is 0, Precision is undefined. We here set it to 0.\n",
    "        precisions[uid] = n_rel_and_rec_k / n_rec_k if n_rec_k != 0 else 0\n",
    "\n",
    "        # Recall@K: Proportion of relevant items that are recommended\n",
    "        # When n_rel is 0, Recall is undefined. We here set it to 0.\n",
    "        recalls[uid] = n_rel_and_rec_k / n_rel if n_rel != 0 else 0\n",
    "\n",
    "    return precisions, recalls"
   ],
   "metadata": {
    "collapsed": false
   }
  },
  {
   "cell_type": "markdown",
   "source": [
    "Converting user-song-liked to Dataset"
   ],
   "metadata": {
    "collapsed": false
   }
  },
  {
   "cell_type": "code",
   "execution_count": 6,
   "outputs": [],
   "source": [
    "reader = Reader(rating_scale=(0,1))  #invoke reader instance of surprise library\n",
    "data = Dataset.load_from_df(df[['user', 'song_id', 'liked']], reader) #load dataset into Surprise datastructure Dataset"
   ],
   "metadata": {
    "collapsed": false
   }
  },
  {
   "cell_type": "code",
   "execution_count": 66,
   "outputs": [
    {
     "name": "stdout",
     "output_type": "stream",
     "text": [
      "RMSE: 0.4526\n",
      "RMSE: 0.4526\n",
      "0.45262289221496116, runtime 1907.5774292945862\n"
     ]
    }
   ],
   "source": [
    "start_time = time.time()\n",
    "trainset, testset = train_test_split(data, test_size=0.25, random_state=123)\n",
    "algo = SVD()\n",
    "predictions = algo.fit(trainset).test(testset)\n",
    "accuracy.rmse(predictions)\n",
    "print(f'Total Runtime: {time.time() - start_time}')\n",
    "print(f'RMSE: {accuracy.rmse(predictions)}')"
   ],
   "metadata": {
    "collapsed": false
   }
  },
  {
   "cell_type": "code",
   "execution_count": null,
   "outputs": [],
   "source": [
    "precisions, recalls, ndcgs = precision_recall_at_k(predictions, k=5, threshold=0.5)\n",
    "\n",
    "# Precision and recall can then be averaged over all users\n",
    "print('Precision@5', sum(prec for prec in precisions.values()) / len(precisions))\n",
    "print('Recall@5', sum(rec for rec in recalls.values()) / len(recalls))\n",
    "print('NDCG@5', sum(ndcg for ndcg in ndcgs.values()) / len(ndcgs))\n",
    "\n",
    "\n",
    "precisions, recalls, ndcgs = precision_recall_at_k(predictions, k=10, threshold=0.5)\n",
    "\n",
    "# Precision and recall can then be averaged over all users\n",
    "print('Precision@10', sum(prec for prec in precisions.values()) / len(precisions))\n",
    "print('Recall@10', sum(rec for rec in recalls.values()) / len(recalls))\n",
    "print('NDCG@10', sum(ndcg for ndcg in ndcgs.values()) / len(ndcgs))\n",
    "\n",
    "precisions, recalls, ndcgs = precision_recall_at_k(predictions, k=20, threshold=0.5)\n",
    "\n",
    "# Precision and recall can then be averaged over all users\n",
    "print('Precision@20', sum(prec for prec in precisions.values()) / len(precisions))\n",
    "print('Recall@20', sum(rec for rec in recalls.values()) / len(recalls))\n",
    "print('NDCG@20', sum(ndcg for ndcg in ndcgs.values()) / len(ndcgs))"
   ],
   "metadata": {
    "collapsed": false
   }
  },
  {
   "cell_type": "markdown",
   "source": [
    "Precision@5: 0.35138103472656496\n",
    "Recall@5: 0.26824459451601784\n",
    "Precision@10: 0.3480267354097438\n",
    "Recall@10: 0.31852822157947336\n",
    "Precision@20: 0.34633668378417176\n",
    "Recall@20: 0.34274509413820703\n",
    "\n"
   ],
   "metadata": {
    "collapsed": false
   }
  }
 ],
 "metadata": {
  "kernelspec": {
   "display_name": "Python 3",
   "language": "python",
   "name": "python3"
  },
  "language_info": {
   "codemirror_mode": {
    "name": "ipython",
    "version": 2
   },
   "file_extension": ".py",
   "mimetype": "text/x-python",
   "name": "python",
   "nbconvert_exporter": "python",
   "pygments_lexer": "ipython2",
   "version": "2.7.6"
  }
 },
 "nbformat": 4,
 "nbformat_minor": 0
}
