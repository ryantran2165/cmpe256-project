{
 "cells": [
  {
   "cell_type": "markdown",
   "id": "d48764ac",
   "metadata": {},
   "source": [
    "reference papers for genre annotation:  \n",
    "https://www.tagtraum.com/download/schreiber_msdgenre_ismir2015.pdf  "
   ]
  },
  {
   "cell_type": "markdown",
   "id": "eb947d6a",
   "metadata": {},
   "source": [
    "# Data loading"
   ]
  },
  {
   "cell_type": "code",
   "execution_count": 1,
   "id": "d41c6304",
   "metadata": {},
   "outputs": [],
   "source": [
    "import pandas as pd\n",
    "import numpy as np"
   ]
  },
  {
   "cell_type": "code",
   "execution_count": 2,
   "id": "aa272a9a",
   "metadata": {},
   "outputs": [],
   "source": [
    "song_artist_genre = pd.read_csv('./data/song_artist_genre.csv')"
   ]
  },
  {
   "cell_type": "code",
   "execution_count": 3,
   "id": "6a173381",
   "metadata": {},
   "outputs": [],
   "source": [
    "check = song_artist_genre['song_id'].duplicated()"
   ]
  },
  {
   "cell_type": "code",
   "execution_count": 4,
   "id": "ba6d55bc",
   "metadata": {},
   "outputs": [
    {
     "data": {
      "text/plain": [
       "Int64Index([   354,    355,    356,    491,    492,    493,    821,    822,\n",
       "               823,   1685,\n",
       "            ...\n",
       "            931241, 931242, 931243, 934813, 961799, 961800, 961801, 966143,\n",
       "            966144, 966145],\n",
       "           dtype='int64', length=2876)"
      ]
     },
     "execution_count": 4,
     "metadata": {},
     "output_type": "execute_result"
    }
   ],
   "source": [
    "check.index[check==True]"
   ]
  },
  {
   "cell_type": "markdown",
   "id": "58bcff6d",
   "metadata": {},
   "source": [
    "Some songs are duplicated. Needs to be dropped."
   ]
  },
  {
   "cell_type": "code",
   "execution_count": 5,
   "id": "a718b8c5",
   "metadata": {},
   "outputs": [],
   "source": [
    "song_artist_genre.drop_duplicates(subset=['song_id'], inplace=True)"
   ]
  },
  {
   "cell_type": "code",
   "execution_count": 6,
   "id": "b8181ed6",
   "metadata": {},
   "outputs": [
    {
     "data": {
      "text/html": [
       "<div>\n",
       "<style scoped>\n",
       "    .dataframe tbody tr th:only-of-type {\n",
       "        vertical-align: middle;\n",
       "    }\n",
       "\n",
       "    .dataframe tbody tr th {\n",
       "        vertical-align: top;\n",
       "    }\n",
       "\n",
       "    .dataframe thead th {\n",
       "        text-align: right;\n",
       "    }\n",
       "</style>\n",
       "<table border=\"1\" class=\"dataframe\">\n",
       "  <thead>\n",
       "    <tr style=\"text-align: right;\">\n",
       "      <th></th>\n",
       "      <th>artist_7digitalid</th>\n",
       "      <th>artist_familiarity</th>\n",
       "      <th>artist_hotttnesss</th>\n",
       "      <th>artist_id</th>\n",
       "      <th>artist_latitude</th>\n",
       "      <th>artist_location</th>\n",
       "      <th>artist_longitude</th>\n",
       "      <th>artist_mbid</th>\n",
       "      <th>artist_name</th>\n",
       "      <th>artist_playmeid</th>\n",
       "      <th>...</th>\n",
       "      <th>genre_13</th>\n",
       "      <th>confidence_13</th>\n",
       "      <th>genre_14</th>\n",
       "      <th>confidence_14</th>\n",
       "      <th>genre_15</th>\n",
       "      <th>confidence_15</th>\n",
       "      <th>genre_16</th>\n",
       "      <th>confidence_16</th>\n",
       "      <th>genre_17</th>\n",
       "      <th>confidence_17</th>\n",
       "    </tr>\n",
       "  </thead>\n",
       "  <tbody>\n",
       "    <tr>\n",
       "      <th>0</th>\n",
       "      <td>4069</td>\n",
       "      <td>0.649822</td>\n",
       "      <td>0.394032</td>\n",
       "      <td>ARYZTJS1187B98C555</td>\n",
       "      <td>NaN</td>\n",
       "      <td>NaN</td>\n",
       "      <td>NaN</td>\n",
       "      <td>357ff05d-848a-44cf-b608-cb34b5701ae5</td>\n",
       "      <td>Faster Pussy cat</td>\n",
       "      <td>44895</td>\n",
       "      <td>...</td>\n",
       "      <td>NaN</td>\n",
       "      <td>NaN</td>\n",
       "      <td>NaN</td>\n",
       "      <td>NaN</td>\n",
       "      <td>NaN</td>\n",
       "      <td>NaN</td>\n",
       "      <td>NaN</td>\n",
       "      <td>NaN</td>\n",
       "      <td>NaN</td>\n",
       "      <td>NaN</td>\n",
       "    </tr>\n",
       "    <tr>\n",
       "      <th>1</th>\n",
       "      <td>113480</td>\n",
       "      <td>0.439604</td>\n",
       "      <td>0.356992</td>\n",
       "      <td>ARMVN3U1187FB3A1EB</td>\n",
       "      <td>NaN</td>\n",
       "      <td>NaN</td>\n",
       "      <td>NaN</td>\n",
       "      <td>8d7ef530-a6fd-4f8f-b2e2-74aec765e0f9</td>\n",
       "      <td>Karkkiautomaatti</td>\n",
       "      <td>-1</td>\n",
       "      <td>...</td>\n",
       "      <td>NaN</td>\n",
       "      <td>NaN</td>\n",
       "      <td>NaN</td>\n",
       "      <td>NaN</td>\n",
       "      <td>NaN</td>\n",
       "      <td>NaN</td>\n",
       "      <td>NaN</td>\n",
       "      <td>NaN</td>\n",
       "      <td>NaN</td>\n",
       "      <td>NaN</td>\n",
       "    </tr>\n",
       "    <tr>\n",
       "      <th>2</th>\n",
       "      <td>63531</td>\n",
       "      <td>0.643681</td>\n",
       "      <td>0.437504</td>\n",
       "      <td>ARGEKB01187FB50750</td>\n",
       "      <td>55.8578</td>\n",
       "      <td>Glasgow, Scotland</td>\n",
       "      <td>-4.24251</td>\n",
       "      <td>3d403d44-36ce-465c-ad43-ae877e65adc4</td>\n",
       "      <td>Hudson Mohawke</td>\n",
       "      <td>-1</td>\n",
       "      <td>...</td>\n",
       "      <td>Instrumental</td>\n",
       "      <td>0.005725</td>\n",
       "      <td>Dance</td>\n",
       "      <td>0.003817</td>\n",
       "      <td>Dance &amp; DJ</td>\n",
       "      <td>0.003817</td>\n",
       "      <td>Ambient Funk Pop</td>\n",
       "      <td>0.003817</td>\n",
       "      <td>Glitch</td>\n",
       "      <td>0.003817</td>\n",
       "    </tr>\n",
       "    <tr>\n",
       "      <th>3</th>\n",
       "      <td>65051</td>\n",
       "      <td>0.448501</td>\n",
       "      <td>0.372349</td>\n",
       "      <td>ARNWYLR1187B9B2F9C</td>\n",
       "      <td>NaN</td>\n",
       "      <td>NaN</td>\n",
       "      <td>NaN</td>\n",
       "      <td>12be7648-7094-495f-90e6-df4189d68615</td>\n",
       "      <td>Yerba Brava</td>\n",
       "      <td>34000</td>\n",
       "      <td>...</td>\n",
       "      <td>NaN</td>\n",
       "      <td>NaN</td>\n",
       "      <td>NaN</td>\n",
       "      <td>NaN</td>\n",
       "      <td>NaN</td>\n",
       "      <td>NaN</td>\n",
       "      <td>NaN</td>\n",
       "      <td>NaN</td>\n",
       "      <td>NaN</td>\n",
       "      <td>NaN</td>\n",
       "    </tr>\n",
       "    <tr>\n",
       "      <th>4</th>\n",
       "      <td>158279</td>\n",
       "      <td>0.000000</td>\n",
       "      <td>0.000000</td>\n",
       "      <td>AREQDTE1269FB37231</td>\n",
       "      <td>NaN</td>\n",
       "      <td>NaN</td>\n",
       "      <td>NaN</td>\n",
       "      <td>NaN</td>\n",
       "      <td>Der Mystic</td>\n",
       "      <td>-1</td>\n",
       "      <td>...</td>\n",
       "      <td>NaN</td>\n",
       "      <td>NaN</td>\n",
       "      <td>NaN</td>\n",
       "      <td>NaN</td>\n",
       "      <td>NaN</td>\n",
       "      <td>NaN</td>\n",
       "      <td>NaN</td>\n",
       "      <td>NaN</td>\n",
       "      <td>NaN</td>\n",
       "      <td>NaN</td>\n",
       "    </tr>\n",
       "  </tbody>\n",
       "</table>\n",
       "<p>5 rows × 66 columns</p>\n",
       "</div>"
      ],
      "text/plain": [
       "   artist_7digitalid  artist_familiarity  artist_hotttnesss  \\\n",
       "0               4069            0.649822           0.394032   \n",
       "1             113480            0.439604           0.356992   \n",
       "2              63531            0.643681           0.437504   \n",
       "3              65051            0.448501           0.372349   \n",
       "4             158279            0.000000           0.000000   \n",
       "\n",
       "            artist_id  artist_latitude    artist_location  artist_longitude  \\\n",
       "0  ARYZTJS1187B98C555              NaN                NaN               NaN   \n",
       "1  ARMVN3U1187FB3A1EB              NaN                NaN               NaN   \n",
       "2  ARGEKB01187FB50750          55.8578  Glasgow, Scotland          -4.24251   \n",
       "3  ARNWYLR1187B9B2F9C              NaN                NaN               NaN   \n",
       "4  AREQDTE1269FB37231              NaN                NaN               NaN   \n",
       "\n",
       "                            artist_mbid       artist_name  artist_playmeid  \\\n",
       "0  357ff05d-848a-44cf-b608-cb34b5701ae5  Faster Pussy cat            44895   \n",
       "1  8d7ef530-a6fd-4f8f-b2e2-74aec765e0f9  Karkkiautomaatti               -1   \n",
       "2  3d403d44-36ce-465c-ad43-ae877e65adc4    Hudson Mohawke               -1   \n",
       "3  12be7648-7094-495f-90e6-df4189d68615       Yerba Brava            34000   \n",
       "4                                   NaN        Der Mystic               -1   \n",
       "\n",
       "   ...      genre_13  confidence_13  genre_14  confidence_14    genre_15  \\\n",
       "0  ...           NaN            NaN       NaN            NaN         NaN   \n",
       "1  ...           NaN            NaN       NaN            NaN         NaN   \n",
       "2  ...  Instrumental       0.005725     Dance       0.003817  Dance & DJ   \n",
       "3  ...           NaN            NaN       NaN            NaN         NaN   \n",
       "4  ...           NaN            NaN       NaN            NaN         NaN   \n",
       "\n",
       "   confidence_15          genre_16  confidence_16 genre_17  confidence_17  \n",
       "0            NaN               NaN            NaN      NaN            NaN  \n",
       "1            NaN               NaN            NaN      NaN            NaN  \n",
       "2       0.003817  Ambient Funk Pop       0.003817   Glitch       0.003817  \n",
       "3            NaN               NaN            NaN      NaN            NaN  \n",
       "4            NaN               NaN            NaN      NaN            NaN  \n",
       "\n",
       "[5 rows x 66 columns]"
      ]
     },
     "execution_count": 6,
     "metadata": {},
     "output_type": "execute_result"
    }
   ],
   "source": [
    "song_artist_genre.head()"
   ]
  },
  {
   "cell_type": "code",
   "execution_count": 7,
   "id": "2356721b",
   "metadata": {},
   "outputs": [
    {
     "data": {
      "text/plain": [
       "Index(['artist_7digitalid', 'artist_familiarity', 'artist_hotttnesss',\n",
       "       'artist_id', 'artist_latitude', 'artist_location', 'artist_longitude',\n",
       "       'artist_mbid', 'artist_name', 'artist_playmeid', 'audio_md5',\n",
       "       'duration', 'end_of_fade_in', 'key', 'key_confidence', 'loudness',\n",
       "       'mode', 'mode_confidence', 'release', 'release_7digitalid',\n",
       "       'song_hotttnesss', 'song_id', 'song_title', 'start_of_fade_out',\n",
       "       'tempo', 'time_signature', 'time_signature_confidence', 'title',\n",
       "       'track_7digitalid', 'track_id', 'main_genre', 'n_taggers', 'genre_1',\n",
       "       'confidence_1', 'genre_2', 'confidence_2', 'genre_3', 'confidence_3',\n",
       "       'genre_4', 'confidence_4', 'genre_5', 'confidence_5', 'genre_6',\n",
       "       'confidence_6', 'genre_7', 'confidence_7', 'genre_8', 'confidence_8',\n",
       "       'genre_9', 'confidence_9', 'genre_10', 'confidence_10', 'genre_11',\n",
       "       'confidence_11', 'genre_12', 'confidence_12', 'genre_13',\n",
       "       'confidence_13', 'genre_14', 'confidence_14', 'genre_15',\n",
       "       'confidence_15', 'genre_16', 'confidence_16', 'genre_17',\n",
       "       'confidence_17'],\n",
       "      dtype='object')"
      ]
     },
     "execution_count": 7,
     "metadata": {},
     "output_type": "execute_result"
    }
   ],
   "source": [
    "song_artist_genre.columns"
   ]
  },
  {
   "cell_type": "code",
   "execution_count": 8,
   "id": "3089ff0b",
   "metadata": {},
   "outputs": [],
   "source": [
    "user_song = pd.read_csv('./data/train_triplets_filtered_ratings.csv')"
   ]
  },
  {
   "cell_type": "code",
   "execution_count": 9,
   "id": "d9ce5b7d",
   "metadata": {},
   "outputs": [
    {
     "data": {
      "text/html": [
       "<div>\n",
       "<style scoped>\n",
       "    .dataframe tbody tr th:only-of-type {\n",
       "        vertical-align: middle;\n",
       "    }\n",
       "\n",
       "    .dataframe tbody tr th {\n",
       "        vertical-align: top;\n",
       "    }\n",
       "\n",
       "    .dataframe thead th {\n",
       "        text-align: right;\n",
       "    }\n",
       "</style>\n",
       "<table border=\"1\" class=\"dataframe\">\n",
       "  <thead>\n",
       "    <tr style=\"text-align: right;\">\n",
       "      <th></th>\n",
       "      <th>user_id</th>\n",
       "      <th>song_id</th>\n",
       "      <th>play_count</th>\n",
       "      <th>rating</th>\n",
       "    </tr>\n",
       "  </thead>\n",
       "  <tbody>\n",
       "    <tr>\n",
       "      <th>0</th>\n",
       "      <td>b80344d063b5ccb3212f76538f3d9e43d87dca9e</td>\n",
       "      <td>SOAKIMP12A8C130995</td>\n",
       "      <td>1</td>\n",
       "      <td>1</td>\n",
       "    </tr>\n",
       "    <tr>\n",
       "      <th>1</th>\n",
       "      <td>b80344d063b5ccb3212f76538f3d9e43d87dca9e</td>\n",
       "      <td>SOAPDEY12A81C210A9</td>\n",
       "      <td>1</td>\n",
       "      <td>1</td>\n",
       "    </tr>\n",
       "    <tr>\n",
       "      <th>2</th>\n",
       "      <td>b80344d063b5ccb3212f76538f3d9e43d87dca9e</td>\n",
       "      <td>SOBBMDR12A8C13253B</td>\n",
       "      <td>2</td>\n",
       "      <td>2</td>\n",
       "    </tr>\n",
       "    <tr>\n",
       "      <th>3</th>\n",
       "      <td>b80344d063b5ccb3212f76538f3d9e43d87dca9e</td>\n",
       "      <td>SOBFNSP12AF72A0E22</td>\n",
       "      <td>1</td>\n",
       "      <td>1</td>\n",
       "    </tr>\n",
       "    <tr>\n",
       "      <th>4</th>\n",
       "      <td>b80344d063b5ccb3212f76538f3d9e43d87dca9e</td>\n",
       "      <td>SOBFOVM12A58A7D494</td>\n",
       "      <td>1</td>\n",
       "      <td>1</td>\n",
       "    </tr>\n",
       "  </tbody>\n",
       "</table>\n",
       "</div>"
      ],
      "text/plain": [
       "                                    user_id             song_id  play_count  \\\n",
       "0  b80344d063b5ccb3212f76538f3d9e43d87dca9e  SOAKIMP12A8C130995           1   \n",
       "1  b80344d063b5ccb3212f76538f3d9e43d87dca9e  SOAPDEY12A81C210A9           1   \n",
       "2  b80344d063b5ccb3212f76538f3d9e43d87dca9e  SOBBMDR12A8C13253B           2   \n",
       "3  b80344d063b5ccb3212f76538f3d9e43d87dca9e  SOBFNSP12AF72A0E22           1   \n",
       "4  b80344d063b5ccb3212f76538f3d9e43d87dca9e  SOBFOVM12A58A7D494           1   \n",
       "\n",
       "   rating  \n",
       "0       1  \n",
       "1       1  \n",
       "2       2  \n",
       "3       1  \n",
       "4       1  "
      ]
     },
     "execution_count": 9,
     "metadata": {},
     "output_type": "execute_result"
    }
   ],
   "source": [
    "user_song.head()"
   ]
  },
  {
   "cell_type": "code",
   "execution_count": 10,
   "id": "49ce9302",
   "metadata": {},
   "outputs": [
    {
     "data": {
      "text/html": [
       "<div>\n",
       "<style scoped>\n",
       "    .dataframe tbody tr th:only-of-type {\n",
       "        vertical-align: middle;\n",
       "    }\n",
       "\n",
       "    .dataframe tbody tr th {\n",
       "        vertical-align: top;\n",
       "    }\n",
       "\n",
       "    .dataframe thead th {\n",
       "        text-align: right;\n",
       "    }\n",
       "</style>\n",
       "<table border=\"1\" class=\"dataframe\">\n",
       "  <thead>\n",
       "    <tr style=\"text-align: right;\">\n",
       "      <th></th>\n",
       "      <th>song_id</th>\n",
       "      <th>main_genre</th>\n",
       "      <th>genre_1</th>\n",
       "    </tr>\n",
       "  </thead>\n",
       "  <tbody>\n",
       "    <tr>\n",
       "      <th>0</th>\n",
       "      <td>SOQMMHC12AB0180CB8</td>\n",
       "      <td>NaN</td>\n",
       "      <td>NaN</td>\n",
       "    </tr>\n",
       "    <tr>\n",
       "      <th>3</th>\n",
       "      <td>SOBNYVR12A8C13558C</td>\n",
       "      <td>NaN</td>\n",
       "      <td>NaN</td>\n",
       "    </tr>\n",
       "    <tr>\n",
       "      <th>4</th>\n",
       "      <td>SOHSBXH12A8C13B0DF</td>\n",
       "      <td>NaN</td>\n",
       "      <td>NaN</td>\n",
       "    </tr>\n",
       "    <tr>\n",
       "      <th>5</th>\n",
       "      <td>SOZVAPQ12A8C13B63C</td>\n",
       "      <td>NaN</td>\n",
       "      <td>NaN</td>\n",
       "    </tr>\n",
       "    <tr>\n",
       "      <th>8</th>\n",
       "      <td>SOPMIYT12A6D4F851E</td>\n",
       "      <td>NaN</td>\n",
       "      <td>NaN</td>\n",
       "    </tr>\n",
       "    <tr>\n",
       "      <th>...</th>\n",
       "      <td>...</td>\n",
       "      <td>...</td>\n",
       "      <td>...</td>\n",
       "    </tr>\n",
       "    <tr>\n",
       "      <th>1001925</th>\n",
       "      <td>SOWCNSN12AB018070F</td>\n",
       "      <td>Electronic</td>\n",
       "      <td>Electronica</td>\n",
       "    </tr>\n",
       "    <tr>\n",
       "      <th>1001926</th>\n",
       "      <td>SOVRJOO12A8C143C7A</td>\n",
       "      <td>NaN</td>\n",
       "      <td>NaN</td>\n",
       "    </tr>\n",
       "    <tr>\n",
       "      <th>1001928</th>\n",
       "      <td>SOXQYIQ12A8C137FBB</td>\n",
       "      <td>NaN</td>\n",
       "      <td>NaN</td>\n",
       "    </tr>\n",
       "    <tr>\n",
       "      <th>1001929</th>\n",
       "      <td>SOHODZI12A8C137BB3</td>\n",
       "      <td>NaN</td>\n",
       "      <td>NaN</td>\n",
       "    </tr>\n",
       "    <tr>\n",
       "      <th>1001930</th>\n",
       "      <td>SOLXGOR12A81C21EB7</td>\n",
       "      <td>NaN</td>\n",
       "      <td>NaN</td>\n",
       "    </tr>\n",
       "  </tbody>\n",
       "</table>\n",
       "<p>557608 rows × 3 columns</p>\n",
       "</div>"
      ],
      "text/plain": [
       "                    song_id  main_genre      genre_1\n",
       "0        SOQMMHC12AB0180CB8         NaN          NaN\n",
       "3        SOBNYVR12A8C13558C         NaN          NaN\n",
       "4        SOHSBXH12A8C13B0DF         NaN          NaN\n",
       "5        SOZVAPQ12A8C13B63C         NaN          NaN\n",
       "8        SOPMIYT12A6D4F851E         NaN          NaN\n",
       "...                     ...         ...          ...\n",
       "1001925  SOWCNSN12AB018070F  Electronic  Electronica\n",
       "1001926  SOVRJOO12A8C143C7A         NaN          NaN\n",
       "1001928  SOXQYIQ12A8C137FBB         NaN          NaN\n",
       "1001929  SOHODZI12A8C137BB3         NaN          NaN\n",
       "1001930  SOLXGOR12A81C21EB7         NaN          NaN\n",
       "\n",
       "[557608 rows x 3 columns]"
      ]
     },
     "execution_count": 10,
     "metadata": {},
     "output_type": "execute_result"
    }
   ],
   "source": [
    "song_artist_genre.loc[song_artist_genre['main_genre']!=song_artist_genre['genre_1']][['song_id', 'main_genre', 'genre_1']]"
   ]
  },
  {
   "cell_type": "markdown",
   "id": "99e0ebe1",
   "metadata": {},
   "source": [
    "Dataset needs to be cleaned: some songs don't have genres labeled"
   ]
  },
  {
   "cell_type": "code",
   "execution_count": 18,
   "id": "b8affe34",
   "metadata": {},
   "outputs": [],
   "source": [
    "song_genre = song_artist_genre[~song_artist_genre['main_genre'].isna()]\n",
    "song_genre = song_genre[['song_hotttnesss', 'song_id', 'song_title','title', \n",
    "       'track_7digitalid', 'track_id', 'main_genre', 'n_taggers', 'genre_1', \n",
    "       'confidence_1', 'genre_2', 'confidence_2', 'genre_3', 'confidence_3', \n",
    "       'genre_4', 'confidence_4', 'genre_5', 'confidence_5', 'genre_6', \n",
    "       'confidence_6', 'genre_7', 'confidence_7', 'genre_8', 'confidence_8', \n",
    "       'genre_9', 'confidence_9', 'genre_10', 'confidence_10', 'genre_11', \n",
    "       'confidence_11', 'genre_12', 'confidence_12', 'genre_13', \n",
    "       'confidence_13', 'genre_14', 'confidence_14', 'genre_15', \n",
    "       'confidence_15', 'genre_16', 'confidence_16', 'genre_17', \n",
    "       'confidence_17']]"
   ]
  },
  {
   "cell_type": "markdown",
   "id": "806ee07b",
   "metadata": {},
   "source": [
    "According to the reference paper, the author created subgenre trees for some \"seed-genres\" and used subgenres for annotation to produce mutiple labels for each song."
   ]
  },
  {
   "cell_type": "code",
   "execution_count": 19,
   "id": "4449a0df",
   "metadata": {},
   "outputs": [
    {
     "data": {
      "text/html": [
       "<div>\n",
       "<style scoped>\n",
       "    .dataframe tbody tr th:only-of-type {\n",
       "        vertical-align: middle;\n",
       "    }\n",
       "\n",
       "    .dataframe tbody tr th {\n",
       "        vertical-align: top;\n",
       "    }\n",
       "\n",
       "    .dataframe thead th {\n",
       "        text-align: right;\n",
       "    }\n",
       "</style>\n",
       "<table border=\"1\" class=\"dataframe\">\n",
       "  <thead>\n",
       "    <tr style=\"text-align: right;\">\n",
       "      <th></th>\n",
       "      <th>main_genre</th>\n",
       "      <th>n_taggers</th>\n",
       "      <th>genre_1</th>\n",
       "      <th>confidence_1</th>\n",
       "      <th>genre_2</th>\n",
       "      <th>confidence_2</th>\n",
       "      <th>genre_3</th>\n",
       "      <th>confidence_3</th>\n",
       "      <th>genre_4</th>\n",
       "      <th>confidence_4</th>\n",
       "    </tr>\n",
       "  </thead>\n",
       "  <tbody>\n",
       "    <tr>\n",
       "      <th>1</th>\n",
       "      <td>Pop</td>\n",
       "      <td>1.0</td>\n",
       "      <td>Pop</td>\n",
       "      <td>1.000000</td>\n",
       "      <td>NaN</td>\n",
       "      <td>NaN</td>\n",
       "      <td>NaN</td>\n",
       "      <td>NaN</td>\n",
       "      <td>NaN</td>\n",
       "      <td>NaN</td>\n",
       "    </tr>\n",
       "    <tr>\n",
       "      <th>2</th>\n",
       "      <td>Electronica/Dance</td>\n",
       "      <td>524.0</td>\n",
       "      <td>Electronica/Dance</td>\n",
       "      <td>0.446565</td>\n",
       "      <td>Electronic</td>\n",
       "      <td>0.316794</td>\n",
       "      <td>Electronica</td>\n",
       "      <td>0.059160</td>\n",
       "      <td>RPM</td>\n",
       "      <td>0.032443</td>\n",
       "    </tr>\n",
       "    <tr>\n",
       "      <th>6</th>\n",
       "      <td>Reggae</td>\n",
       "      <td>14.0</td>\n",
       "      <td>Reggae</td>\n",
       "      <td>0.928571</td>\n",
       "      <td>Dancehall Reggae</td>\n",
       "      <td>0.071429</td>\n",
       "      <td>NaN</td>\n",
       "      <td>NaN</td>\n",
       "      <td>NaN</td>\n",
       "      <td>NaN</td>\n",
       "    </tr>\n",
       "    <tr>\n",
       "      <th>7</th>\n",
       "      <td>Hip-Hop</td>\n",
       "      <td>102.0</td>\n",
       "      <td>Hip-Hop</td>\n",
       "      <td>0.333333</td>\n",
       "      <td>Rap</td>\n",
       "      <td>0.294118</td>\n",
       "      <td>Hip-Hop/Rap</td>\n",
       "      <td>0.205882</td>\n",
       "      <td>Other Rap/Hip-Hop</td>\n",
       "      <td>0.039216</td>\n",
       "    </tr>\n",
       "    <tr>\n",
       "      <th>9</th>\n",
       "      <td>Cadence</td>\n",
       "      <td>1.0</td>\n",
       "      <td>Cadence</td>\n",
       "      <td>1.000000</td>\n",
       "      <td>NaN</td>\n",
       "      <td>NaN</td>\n",
       "      <td>NaN</td>\n",
       "      <td>NaN</td>\n",
       "      <td>NaN</td>\n",
       "      <td>NaN</td>\n",
       "    </tr>\n",
       "  </tbody>\n",
       "</table>\n",
       "</div>"
      ],
      "text/plain": [
       "          main_genre  n_taggers            genre_1  confidence_1  \\\n",
       "1                Pop        1.0                Pop      1.000000   \n",
       "2  Electronica/Dance      524.0  Electronica/Dance      0.446565   \n",
       "6             Reggae       14.0             Reggae      0.928571   \n",
       "7            Hip-Hop      102.0            Hip-Hop      0.333333   \n",
       "9            Cadence        1.0            Cadence      1.000000   \n",
       "\n",
       "            genre_2  confidence_2      genre_3  confidence_3  \\\n",
       "1               NaN           NaN          NaN           NaN   \n",
       "2        Electronic      0.316794  Electronica      0.059160   \n",
       "6  Dancehall Reggae      0.071429          NaN           NaN   \n",
       "7               Rap      0.294118  Hip-Hop/Rap      0.205882   \n",
       "9               NaN           NaN          NaN           NaN   \n",
       "\n",
       "             genre_4  confidence_4  \n",
       "1                NaN           NaN  \n",
       "2                RPM      0.032443  \n",
       "6                NaN           NaN  \n",
       "7  Other Rap/Hip-Hop      0.039216  \n",
       "9                NaN           NaN  "
      ]
     },
     "execution_count": 19,
     "metadata": {},
     "output_type": "execute_result"
    }
   ],
   "source": [
    "song_genre.head()[['main_genre', 'n_taggers', 'genre_1', \n",
    "       'confidence_1', 'genre_2', 'confidence_2', 'genre_3', 'confidence_3', \n",
    "       'genre_4', 'confidence_4']]"
   ]
  },
  {
   "cell_type": "code",
   "execution_count": 20,
   "id": "d8740720",
   "metadata": {},
   "outputs": [
    {
     "data": {
      "text/plain": [
       "(676155, 42)"
      ]
     },
     "execution_count": 20,
     "metadata": {},
     "output_type": "execute_result"
    }
   ],
   "source": [
    "song_genre.shape"
   ]
  },
  {
   "cell_type": "markdown",
   "id": "575c319e",
   "metadata": {},
   "source": [
    "# Song profiles"
   ]
  },
  {
   "cell_type": "code",
   "execution_count": 21,
   "id": "53fc98d6",
   "metadata": {},
   "outputs": [
    {
     "data": {
      "text/plain": [
       "Rock                         110538\n",
       "Pop                           48884\n",
       "Jazz                          33608\n",
       "Electronic                    27182\n",
       "Country                       20360\n",
       "                              ...  \n",
       "Indierock, New Wave, Punk         1\n",
       "5. Dance (synthpop)               1\n",
       "Homestead                         1\n",
       "Polish Jazz                       1\n",
       "Pop/80's/New Wave                 1\n",
       "Name: genre_1, Length: 6937, dtype: int64"
      ]
     },
     "execution_count": 21,
     "metadata": {},
     "output_type": "execute_result"
    }
   ],
   "source": [
    "counts = song_genre['genre_1'].value_counts()\n",
    "counts"
   ]
  },
  {
   "cell_type": "markdown",
   "id": "48049e20",
   "metadata": {},
   "source": [
    "Some genres don't have enough songs. Select the top genres that have at least 1000 songs as our features, which produces 65 genres."
   ]
  },
  {
   "cell_type": "code",
   "execution_count": 22,
   "id": "1d860885",
   "metadata": {},
   "outputs": [],
   "source": [
    "genres = counts[counts>1000].index.tolist()"
   ]
  },
  {
   "cell_type": "markdown",
   "id": "b9340445",
   "metadata": {},
   "source": [
    "Pre-populate the values for genres as 0. They will be replaced by the confidence values later."
   ]
  },
  {
   "cell_type": "code",
   "execution_count": 23,
   "id": "10df873f",
   "metadata": {},
   "outputs": [],
   "source": [
    "old_columns = ['genre_1', \n",
    "       'confidence_1', 'genre_2', 'confidence_2', 'genre_3', 'confidence_3', \n",
    "       'genre_4', 'confidence_4', 'genre_5', 'confidence_5', 'genre_6', \n",
    "       'confidence_6', 'genre_7', 'confidence_7', 'genre_8', 'confidence_8', \n",
    "       'genre_9', 'confidence_9', 'genre_10', 'confidence_10', 'genre_11', \n",
    "       'confidence_11', 'genre_12', 'confidence_12', 'genre_13', \n",
    "       'confidence_13', 'genre_14', 'confidence_14', 'genre_15', \n",
    "       'confidence_15', 'genre_16', 'confidence_16', 'genre_17', \n",
    "       'confidence_17']"
   ]
  },
  {
   "cell_type": "code",
   "execution_count": 24,
   "id": "d1daf44e",
   "metadata": {},
   "outputs": [],
   "source": [
    "def fill_confidence(x, genre):\n",
    "    for i in range(0, len(old_columns), 2):\n",
    "        if x[old_columns[i]] == genre:\n",
    "            return x[old_columns[i+1]]\n",
    "    \n",
    "    return 0"
   ]
  },
  {
   "cell_type": "code",
   "execution_count": 25,
   "id": "313c5bd3",
   "metadata": {},
   "outputs": [
    {
     "name": "stderr",
     "output_type": "stream",
     "text": [
      "100%|██████████████████████████████████████████████████████████████████████████████████| 63/63 [27:48<00:00, 26.49s/it]\n"
     ]
    }
   ],
   "source": [
    "from tqdm import tqdm\n",
    "\n",
    "for genre in tqdm(genres):\n",
    "    song_genre[genre] = song_genre.apply(lambda x: fill_confidence(x, genre), axis=1)"
   ]
  },
  {
   "cell_type": "code",
   "execution_count": 26,
   "id": "d7aef373",
   "metadata": {},
   "outputs": [],
   "source": [
    "song_genre.drop(columns=old_columns, inplace=True)\n",
    "song_genre.to_csv(\"./data/songs_genres.csv\", index=False)"
   ]
  },
  {
   "cell_type": "markdown",
   "id": "0eb7a3e4",
   "metadata": {},
   "source": [
    "# User profiles"
   ]
  },
  {
   "cell_type": "code",
   "execution_count": 28,
   "id": "64dcaa6c",
   "metadata": {},
   "outputs": [
    {
     "data": {
      "text/plain": [
       "(32525889, 4)"
      ]
     },
     "execution_count": 28,
     "metadata": {},
     "output_type": "execute_result"
    }
   ],
   "source": [
    "user_song.shape"
   ]
  },
  {
   "cell_type": "code",
   "execution_count": 29,
   "id": "e4616a61",
   "metadata": {},
   "outputs": [],
   "source": [
    "user_genre = pd.DataFrame(user_song['user_id'].unique(), columns=['user_id'])"
   ]
  },
  {
   "cell_type": "code",
   "execution_count": 31,
   "id": "f081ae12",
   "metadata": {},
   "outputs": [
    {
     "data": {
      "text/plain": [
       "(558350, 1)"
      ]
     },
     "execution_count": 31,
     "metadata": {},
     "output_type": "execute_result"
    }
   ],
   "source": [
    "user_genre.shape"
   ]
  },
  {
   "cell_type": "code",
   "execution_count": 32,
   "id": "7ec65b9f",
   "metadata": {},
   "outputs": [],
   "source": [
    "def create_profile(user_id):\n",
    "    user_set = user_song.loc[user_song['user_id']==user_id]\n",
    "    user_set_genre = pd.merge(\n",
    "        left=user_set, right=song_genre, left_on=\"song_id\", right_on=\"song_id\", how=\"left\"\n",
    ")\n",
    "    user_set_genre[genres] = user_set_genre[genres].multiply(user_set_genre['play_count'], axis='index')\n",
    "\n",
    "    return user_set_genre[genres].sum(axis=0)/user_set_genre['play_count'].sum()"
   ]
  },
  {
   "cell_type": "markdown",
   "id": "46addbfc",
   "metadata": {},
   "source": [
    "Not enough computing power to generate profiles for all users. Approximately 13 days needed to generate all user profiles"
   ]
  },
  {
   "cell_type": "code",
   "execution_count": 33,
   "id": "0a1f82c8",
   "metadata": {
    "scrolled": true
   },
   "outputs": [],
   "source": [
    "#tqdm.pandas()\n",
    "#user_genre[genres]=user_genre['user_id'].progress_apply(create_profile)"
   ]
  },
  {
   "cell_type": "code",
   "execution_count": 47,
   "id": "585397fc",
   "metadata": {},
   "outputs": [],
   "source": [
    "# select the top 1000 frequent users to generate sample user profiles\n",
    "user_subset = user_song['user_id'].value_counts()[:1000].index.tolist()"
   ]
  },
  {
   "cell_type": "code",
   "execution_count": 50,
   "id": "41be6e62",
   "metadata": {},
   "outputs": [
    {
     "name": "stderr",
     "output_type": "stream",
     "text": [
      "100%|██████████████████████████████████████████████████████████████████████████████| 1000/1000 [29:35<00:00,  1.78s/it]\n"
     ]
    }
   ],
   "source": [
    "user_genre_subset=user_genre.loc[user_genre['user_id'].isin(user_subset)].copy()\n",
    "\n",
    "tqdm.pandas()\n",
    "user_genre_subset[genres]=user_genre_subset['user_id'].progress_apply(create_profile)"
   ]
  },
  {
   "cell_type": "code",
   "execution_count": 51,
   "id": "46d97ffe",
   "metadata": {},
   "outputs": [],
   "source": [
    "user_genre_subset.to_csv(\"./data/example_subset_users_genres.csv\", index=False)"
   ]
  },
  {
   "cell_type": "markdown",
   "id": "dc6bf7b1",
   "metadata": {},
   "source": [
    "# Approach 1: Similarity between User and Songs"
   ]
  },
  {
   "cell_type": "code",
   "execution_count": 34,
   "id": "d53b6088",
   "metadata": {},
   "outputs": [],
   "source": [
    "from sklearn.metrics.pairwise import cosine_similarity"
   ]
  },
  {
   "cell_type": "code",
   "execution_count": 35,
   "id": "87b4b8c2",
   "metadata": {},
   "outputs": [],
   "source": [
    "def recommend(user_id, k):\n",
    "    user_profile = create_profile(user_id)\n",
    "    diff = cosine_similarity(create_profile(user_id).values.reshape((1, -1)), song_genre[genres])\n",
    "    return song_genre[['song_id','song_title']].iloc[np.argsort(-diff)[0][:k]]"
   ]
  },
  {
   "cell_type": "code",
   "execution_count": 36,
   "id": "fbd38d6e",
   "metadata": {},
   "outputs": [
    {
     "data": {
      "text/html": [
       "<div>\n",
       "<style scoped>\n",
       "    .dataframe tbody tr th:only-of-type {\n",
       "        vertical-align: middle;\n",
       "    }\n",
       "\n",
       "    .dataframe tbody tr th {\n",
       "        vertical-align: top;\n",
       "    }\n",
       "\n",
       "    .dataframe thead th {\n",
       "        text-align: right;\n",
       "    }\n",
       "</style>\n",
       "<table border=\"1\" class=\"dataframe\">\n",
       "  <thead>\n",
       "    <tr style=\"text-align: right;\">\n",
       "      <th></th>\n",
       "      <th>song_id</th>\n",
       "      <th>song_title</th>\n",
       "    </tr>\n",
       "  </thead>\n",
       "  <tbody>\n",
       "    <tr>\n",
       "      <th>818036</th>\n",
       "      <td>SOOHRSR12A81C22C58</td>\n",
       "      <td>All Man's Land</td>\n",
       "    </tr>\n",
       "    <tr>\n",
       "      <th>334906</th>\n",
       "      <td>SOTMMAZ12AB01859E8</td>\n",
       "      <td>One Above One</td>\n",
       "    </tr>\n",
       "    <tr>\n",
       "      <th>58129</th>\n",
       "      <td>SOIGQZV12A6D4F7424</td>\n",
       "      <td>Fly Me Away (Ladytron Remix)</td>\n",
       "    </tr>\n",
       "  </tbody>\n",
       "</table>\n",
       "</div>"
      ],
      "text/plain": [
       "                   song_id                    song_title\n",
       "818036  SOOHRSR12A81C22C58                All Man's Land\n",
       "334906  SOTMMAZ12AB01859E8                 One Above One\n",
       "58129   SOIGQZV12A6D4F7424  Fly Me Away (Ladytron Remix)"
      ]
     },
     "execution_count": 36,
     "metadata": {},
     "output_type": "execute_result"
    }
   ],
   "source": [
    "user_id = 'b64cdd1a0bd907e5e00b39e345194768e330d652'\n",
    "recommend(user_id, 3)"
   ]
  },
  {
   "cell_type": "markdown",
   "id": "417b9533",
   "metadata": {},
   "source": [
    "For this approach, the results are the recommended songs only and there're no ground truth. So evaluation is not available."
   ]
  },
  {
   "cell_type": "markdown",
   "id": "e751838d",
   "metadata": {},
   "source": [
    "# Approach 2: Predict Ratings"
   ]
  },
  {
   "cell_type": "markdown",
   "id": "67e4bc73",
   "metadata": {},
   "source": [
    "First drop songs that don't have genre labels"
   ]
  },
  {
   "cell_type": "code",
   "execution_count": 37,
   "id": "8bff416d",
   "metadata": {},
   "outputs": [],
   "source": [
    "user_song=user_song.loc[user_song['song_id'].isin(song_genre['song_id'])]"
   ]
  },
  {
   "cell_type": "markdown",
   "id": "3e503c8c",
   "metadata": {},
   "source": [
    "The original dataset is too large and correlation matrix cannot be computed. A subset is chosen to demonstrate the custom KNN algo"
   ]
  },
  {
   "cell_type": "code",
   "execution_count": 38,
   "id": "3fb52540",
   "metadata": {},
   "outputs": [],
   "source": [
    "# choose the top 1000 most listened songs\n",
    "song_subset= user_song['song_id'].value_counts()[:1000].index.tolist()"
   ]
  },
  {
   "cell_type": "code",
   "execution_count": 39,
   "id": "d2185bd9",
   "metadata": {},
   "outputs": [],
   "source": [
    "song_genre_subset=song_genre.loc[song_genre['song_id'].isin(song_subset)]"
   ]
  },
  {
   "cell_type": "code",
   "execution_count": 40,
   "id": "e8a426a4",
   "metadata": {},
   "outputs": [],
   "source": [
    "user_song_subset=user_song.loc[user_song['song_id'].isin(song_subset)]"
   ]
  },
  {
   "cell_type": "code",
   "execution_count": 41,
   "id": "649e9949",
   "metadata": {},
   "outputs": [],
   "source": [
    "from surprise import accuracy, KNNBasic, Dataset, Reader\n",
    "from surprise.model_selection import train_test_split\n",
    "from surprise.model_selection import GridSearchCV"
   ]
  },
  {
   "cell_type": "markdown",
   "id": "a9969ab7",
   "metadata": {},
   "source": [
    "Code reference: Surprise open-source GitHub repo  \n",
    "https://github.com/NicolasHug/Surprise/tree/687ed960ef8dac599b3c49f1cf7d6ad1e5bad1f4/surprise"
   ]
  },
  {
   "cell_type": "code",
   "execution_count": 42,
   "id": "11159faa",
   "metadata": {},
   "outputs": [],
   "source": [
    "class CustomKNN(KNNBasic):\n",
    "    def __init__(self, k=40, min_k=1, sim_options={}, verbose=True, **kwargs):      \n",
    "        # Always call base method before doing anything.\n",
    "        KNNBasic.__init__(self, k=40, min_k=1, sim_options={}, verbose=True, **kwargs)\n",
    "        \n",
    "        # We're customizing the item-item similarities, so the default needs to be cahged to False\n",
    "        self.sim_options[\"user_based\"] = False\n",
    "\n",
    "    def compute_similarities(self):\n",
    "        \"\"\"Build the similarity matrix.\n",
    "        Replace the user-item utility matrix with the song-genre matrix\n",
    "        Returns:\n",
    "            The similarity matrix.\"\"\"\n",
    "        \n",
    "        global song_genre_subset\n",
    "        m = song_genre_subset[['song_id']+genres].set_index('song_id')\n",
    "        sim = np.asarray(m.T.corr())\n",
    "        return sim       "
   ]
  },
  {
   "cell_type": "code",
   "execution_count": 43,
   "id": "33a93b39",
   "metadata": {},
   "outputs": [],
   "source": [
    "reader = Reader(rating_scale=(1, 5))\n",
    "\n",
    "data = Dataset.load_from_df(user_song_subset[['user_id', 'song_id', 'rating']], reader=reader)"
   ]
  },
  {
   "cell_type": "code",
   "execution_count": 44,
   "id": "e4ed51fd",
   "metadata": {},
   "outputs": [
    {
     "name": "stdout",
     "output_type": "stream",
     "text": [
      "RMSE: 0.9778\n"
     ]
    },
    {
     "data": {
      "text/plain": [
       "0.9777632623653745"
      ]
     },
     "execution_count": 44,
     "metadata": {},
     "output_type": "execute_result"
    }
   ],
   "source": [
    "trainset, testset = train_test_split(data, test_size=0.2)\n",
    "\n",
    "algo = CustomKNN(random_state=42)\n",
    "\n",
    "algo.fit(trainset)\n",
    "predictions = algo.test(testset)\n",
    "\n",
    "# Then compute RMSE\n",
    "accuracy.rmse(predictions)"
   ]
  },
  {
   "cell_type": "code",
   "execution_count": 45,
   "id": "8a3ecdd8",
   "metadata": {},
   "outputs": [
    {
     "name": "stdout",
     "output_type": "stream",
     "text": [
      "0.9803423653340758\n",
      "{'k': 10, 'min_k': 1, 'random_state': 42}\n"
     ]
    }
   ],
   "source": [
    "param_grid = {\"k\": [10, 20, 40, 50], \"min_k\": [1, 2], 'random_state':[42]}\n",
    "gs = GridSearchCV(CustomKNN, param_grid, measures=[\"rmse\"], cv=5)\n",
    "\n",
    "gs.fit(data)\n",
    "\n",
    "# best RMSE score\n",
    "print(gs.best_score[\"rmse\"])\n",
    "\n",
    "# combination of parameters that gave the best RMSE score\n",
    "print(gs.best_params[\"rmse\"])"
   ]
  },
  {
   "cell_type": "code",
   "execution_count": 46,
   "id": "9f50c74e",
   "metadata": {},
   "outputs": [
    {
     "name": "stdout",
     "output_type": "stream",
     "text": [
      "RMSE: 0.9778\n"
     ]
    },
    {
     "data": {
      "text/plain": [
       "0.9777632623653745"
      ]
     },
     "execution_count": 46,
     "metadata": {},
     "output_type": "execute_result"
    }
   ],
   "source": [
    "algo_tuned = CustomKNN(k=10, min_k=1, random_state=42)\n",
    "\n",
    "algo_tuned.fit(trainset)\n",
    "predictions = algo_tuned.test(testset)\n",
    "\n",
    "# Then compute RMSE\n",
    "accuracy.rmse(predictions)"
   ]
  },
  {
   "cell_type": "code",
   "execution_count": null,
   "id": "9f3a1f12",
   "metadata": {},
   "outputs": [],
   "source": []
  }
 ],
 "metadata": {
  "kernelspec": {
   "display_name": "Python 3 (ipykernel)",
   "language": "python",
   "name": "python3"
  },
  "language_info": {
   "codemirror_mode": {
    "name": "ipython",
    "version": 3
   },
   "file_extension": ".py",
   "mimetype": "text/x-python",
   "name": "python",
   "nbconvert_exporter": "python",
   "pygments_lexer": "ipython3",
   "version": "3.11.0"
  }
 },
 "nbformat": 4,
 "nbformat_minor": 5
}
