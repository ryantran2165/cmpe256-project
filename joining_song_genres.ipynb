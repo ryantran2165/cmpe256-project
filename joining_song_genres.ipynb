{
 "cells": [
  {
   "cell_type": "markdown",
   "source": [
    "https://www.tagtraum.com/msd_genre_datasets.html"
   ],
   "metadata": {
    "collapsed": false
   }
  },
  {
   "cell_type": "code",
   "execution_count": 1,
   "outputs": [],
   "source": [
    "import pandas as pd\n",
    "import numpy as np\n",
    "import os\n",
    "import itertools"
   ],
   "metadata": {
    "collapsed": false
   }
  },
  {
   "cell_type": "markdown",
   "source": [
    "Loading songs and artists metadata"
   ],
   "metadata": {
    "collapsed": false
   }
  },
  {
   "cell_type": "code",
   "execution_count": 5,
   "outputs": [
    {
     "data": {
      "text/plain": "   artist_7digitalid  artist_familiarity  artist_hotttnesss  \\\n0               4069            0.649822           0.394032   \n1             113480            0.439604           0.356992   \n2              63531            0.643681           0.437504   \n3              65051            0.448501           0.372349   \n4             158279            0.000000           0.000000   \n\n            artist_id  artist_latitude    artist_location  artist_longitude  \\\n0  ARYZTJS1187B98C555              NaN                NaN               NaN   \n1  ARMVN3U1187FB3A1EB              NaN                NaN               NaN   \n2  ARGEKB01187FB50750          55.8578  Glasgow, Scotland          -4.24251   \n3  ARNWYLR1187B9B2F9C              NaN                NaN               NaN   \n4  AREQDTE1269FB37231              NaN                NaN               NaN   \n\n                            artist_mbid       artist_name  artist_playmeid  \\\n0  357ff05d-848a-44cf-b608-cb34b5701ae5  Faster Pussy cat            44895   \n1  8d7ef530-a6fd-4f8f-b2e2-74aec765e0f9  Karkkiautomaatti               -1   \n2  3d403d44-36ce-465c-ad43-ae877e65adc4    Hudson Mohawke               -1   \n3  12be7648-7094-495f-90e6-df4189d68615       Yerba Brava            34000   \n4                                   NaN        Der Mystic               -1   \n\n   ... song_hotttnesss             song_id         song_title  \\\n0  ...        0.542899  SOQMMHC12AB0180CB8       Silent Night   \n1  ...        0.299877  SOVFVAK12A8C1350D9        Tanssi vaan   \n2  ...        0.617871  SOGTUKN12AB017F4F1  No One Could Ever   \n3  ...             NaN  SOBNYVR12A8C13558C      Si Vos Querés   \n4  ...             NaN  SOHSBXH12A8C13B0DF   Tangle Of Aspens   \n\n   start_of_fade_out    tempo  time_signature  time_signature_confidence  \\\n0            236.635   87.002               4                      0.940   \n1            148.660  150.778               1                      0.000   \n2            138.971  177.768               4                      0.446   \n3            138.687   87.433               4                      0.000   \n4            506.717  140.035               4                      0.315   \n\n               title track_7digitalid            track_id  \n0       Silent Night          7032331  TRMMMYQ128F932D901  \n1        Tanssi vaan          1514808  TRMMMKD128F425225D  \n2  No One Could Ever          6945353  TRMMMRX128F93187D9  \n3      Si Vos Querés          2168257  TRMMMCH128F425532C  \n4   Tangle Of Aspens          2264873  TRMMMWA128F426B589  \n\n[5 rows x 30 columns]",
      "text/html": "<div>\n<style scoped>\n    .dataframe tbody tr th:only-of-type {\n        vertical-align: middle;\n    }\n\n    .dataframe tbody tr th {\n        vertical-align: top;\n    }\n\n    .dataframe thead th {\n        text-align: right;\n    }\n</style>\n<table border=\"1\" class=\"dataframe\">\n  <thead>\n    <tr style=\"text-align: right;\">\n      <th></th>\n      <th>artist_7digitalid</th>\n      <th>artist_familiarity</th>\n      <th>artist_hotttnesss</th>\n      <th>artist_id</th>\n      <th>artist_latitude</th>\n      <th>artist_location</th>\n      <th>artist_longitude</th>\n      <th>artist_mbid</th>\n      <th>artist_name</th>\n      <th>artist_playmeid</th>\n      <th>...</th>\n      <th>song_hotttnesss</th>\n      <th>song_id</th>\n      <th>song_title</th>\n      <th>start_of_fade_out</th>\n      <th>tempo</th>\n      <th>time_signature</th>\n      <th>time_signature_confidence</th>\n      <th>title</th>\n      <th>track_7digitalid</th>\n      <th>track_id</th>\n    </tr>\n  </thead>\n  <tbody>\n    <tr>\n      <th>0</th>\n      <td>4069</td>\n      <td>0.649822</td>\n      <td>0.394032</td>\n      <td>ARYZTJS1187B98C555</td>\n      <td>NaN</td>\n      <td>NaN</td>\n      <td>NaN</td>\n      <td>357ff05d-848a-44cf-b608-cb34b5701ae5</td>\n      <td>Faster Pussy cat</td>\n      <td>44895</td>\n      <td>...</td>\n      <td>0.542899</td>\n      <td>SOQMMHC12AB0180CB8</td>\n      <td>Silent Night</td>\n      <td>236.635</td>\n      <td>87.002</td>\n      <td>4</td>\n      <td>0.940</td>\n      <td>Silent Night</td>\n      <td>7032331</td>\n      <td>TRMMMYQ128F932D901</td>\n    </tr>\n    <tr>\n      <th>1</th>\n      <td>113480</td>\n      <td>0.439604</td>\n      <td>0.356992</td>\n      <td>ARMVN3U1187FB3A1EB</td>\n      <td>NaN</td>\n      <td>NaN</td>\n      <td>NaN</td>\n      <td>8d7ef530-a6fd-4f8f-b2e2-74aec765e0f9</td>\n      <td>Karkkiautomaatti</td>\n      <td>-1</td>\n      <td>...</td>\n      <td>0.299877</td>\n      <td>SOVFVAK12A8C1350D9</td>\n      <td>Tanssi vaan</td>\n      <td>148.660</td>\n      <td>150.778</td>\n      <td>1</td>\n      <td>0.000</td>\n      <td>Tanssi vaan</td>\n      <td>1514808</td>\n      <td>TRMMMKD128F425225D</td>\n    </tr>\n    <tr>\n      <th>2</th>\n      <td>63531</td>\n      <td>0.643681</td>\n      <td>0.437504</td>\n      <td>ARGEKB01187FB50750</td>\n      <td>55.8578</td>\n      <td>Glasgow, Scotland</td>\n      <td>-4.24251</td>\n      <td>3d403d44-36ce-465c-ad43-ae877e65adc4</td>\n      <td>Hudson Mohawke</td>\n      <td>-1</td>\n      <td>...</td>\n      <td>0.617871</td>\n      <td>SOGTUKN12AB017F4F1</td>\n      <td>No One Could Ever</td>\n      <td>138.971</td>\n      <td>177.768</td>\n      <td>4</td>\n      <td>0.446</td>\n      <td>No One Could Ever</td>\n      <td>6945353</td>\n      <td>TRMMMRX128F93187D9</td>\n    </tr>\n    <tr>\n      <th>3</th>\n      <td>65051</td>\n      <td>0.448501</td>\n      <td>0.372349</td>\n      <td>ARNWYLR1187B9B2F9C</td>\n      <td>NaN</td>\n      <td>NaN</td>\n      <td>NaN</td>\n      <td>12be7648-7094-495f-90e6-df4189d68615</td>\n      <td>Yerba Brava</td>\n      <td>34000</td>\n      <td>...</td>\n      <td>NaN</td>\n      <td>SOBNYVR12A8C13558C</td>\n      <td>Si Vos Querés</td>\n      <td>138.687</td>\n      <td>87.433</td>\n      <td>4</td>\n      <td>0.000</td>\n      <td>Si Vos Querés</td>\n      <td>2168257</td>\n      <td>TRMMMCH128F425532C</td>\n    </tr>\n    <tr>\n      <th>4</th>\n      <td>158279</td>\n      <td>0.000000</td>\n      <td>0.000000</td>\n      <td>AREQDTE1269FB37231</td>\n      <td>NaN</td>\n      <td>NaN</td>\n      <td>NaN</td>\n      <td>NaN</td>\n      <td>Der Mystic</td>\n      <td>-1</td>\n      <td>...</td>\n      <td>NaN</td>\n      <td>SOHSBXH12A8C13B0DF</td>\n      <td>Tangle Of Aspens</td>\n      <td>506.717</td>\n      <td>140.035</td>\n      <td>4</td>\n      <td>0.315</td>\n      <td>Tangle Of Aspens</td>\n      <td>2264873</td>\n      <td>TRMMMWA128F426B589</td>\n    </tr>\n  </tbody>\n</table>\n<p>5 rows × 30 columns</p>\n</div>"
     },
     "execution_count": 5,
     "metadata": {},
     "output_type": "execute_result"
    }
   ],
   "source": [
    "song_artist = pd.read_csv('valid_song_artist_data.csv')\n",
    "song_artist.head()"
   ],
   "metadata": {
    "collapsed": false
   }
  },
  {
   "cell_type": "code",
   "execution_count": 6,
   "outputs": [
    {
     "data": {
      "text/plain": "Index(['artist_7digitalid', 'artist_familiarity', 'artist_hotttnesss',\n       'artist_id', 'artist_latitude', 'artist_location', 'artist_longitude',\n       'artist_mbid', 'artist_name', 'artist_playmeid', 'audio_md5',\n       'duration', 'end_of_fade_in', 'key', 'key_confidence', 'loudness',\n       'mode', 'mode_confidence', 'release', 'release_7digitalid',\n       'song_hotttnesss', 'song_id', 'song_title', 'start_of_fade_out',\n       'tempo', 'time_signature', 'time_signature_confidence', 'title',\n       'track_7digitalid', 'track_id'],\n      dtype='object')"
     },
     "execution_count": 6,
     "metadata": {},
     "output_type": "execute_result"
    }
   ],
   "source": [
    "song_artist.columns"
   ],
   "metadata": {
    "collapsed": false
   }
  },
  {
   "cell_type": "code",
   "execution_count": 7,
   "outputs": [
    {
     "data": {
      "text/plain": "(1001932, 30)"
     },
     "execution_count": 7,
     "metadata": {},
     "output_type": "execute_result"
    }
   ],
   "source": [
    "song_artist.shape"
   ],
   "metadata": {
    "collapsed": false
   }
  },
  {
   "cell_type": "markdown",
   "source": [
    "Loading in genres"
   ],
   "metadata": {
    "collapsed": false
   }
  },
  {
   "cell_type": "markdown",
   "source": [
    "https://www.tagtraum.com/genres/msd_beatunes_map.cls.zip"
   ],
   "metadata": {
    "collapsed": false
   }
  },
  {
   "cell_type": "code",
   "execution_count": 36,
   "outputs": [
    {
     "data": {
      "text/plain": "             track_id main_genre  n_taggers  genre_1  confidence_1  \\\n0  TRAAAAK128F9318786       Rock        201     Rock      0.676617   \n1  TRAAAAV128F421A322       Rock          8     Rock      0.500000   \n2  TRAAAAW128F429D538    Hip-Hop        133  Hip-Hop      0.488722   \n3  TRAAAAY128F42A73F0      World          1    World      1.000000   \n4  TRAAABD128F429CF47       Rock         40     Rock      0.400000   \n\n       genre_2  confidence_2    genre_3  confidence_3        genre_4  ...  \\\n0        Metal      0.099502  Hard Rock      0.044776    Alternative  ...   \n1         Punk      0.500000        NaN           NaN            NaN  ...   \n2  Hip-Hop/Rap      0.270677        Rap      0.090226  Hip-Hop (255)  ...   \n3          NaN           NaN        NaN           NaN            NaN  ...   \n4     Rock/Pop      0.150000     Oldies      0.100000  Unknown Genre  ...   \n\n                genre_13 confidence_13          genre_14 confidence_14  \\\n0  Alternative Rock/Rock      0.004975  Rock/Post-Grunge      0.004975   \n1                    NaN           NaN               NaN           NaN   \n2                Hip Hip      0.007519    West Coast Rap      0.007519   \n3                    NaN           NaN               NaN           NaN   \n4                    NaN           NaN               NaN           NaN   \n\n                    genre_15 confidence_15         genre_16 confidence_16  \\\n0          Hard Rock & Metal      0.004975            Music      0.004975   \n1                        NaN           NaN              NaN           NaN   \n2  Rap/Westcoast/Underground      0.007519  Classic Hip Hop      0.007519   \n3                        NaN           NaN              NaN           NaN   \n4                        NaN           NaN              NaN           NaN   \n\n   genre_17 confidence_17  \n0     Other      0.004975  \n1       NaN           NaN  \n2      Rock      0.007519  \n3       NaN           NaN  \n4       NaN           NaN  \n\n[5 rows x 37 columns]",
      "text/html": "<div>\n<style scoped>\n    .dataframe tbody tr th:only-of-type {\n        vertical-align: middle;\n    }\n\n    .dataframe tbody tr th {\n        vertical-align: top;\n    }\n\n    .dataframe thead th {\n        text-align: right;\n    }\n</style>\n<table border=\"1\" class=\"dataframe\">\n  <thead>\n    <tr style=\"text-align: right;\">\n      <th></th>\n      <th>track_id</th>\n      <th>main_genre</th>\n      <th>n_taggers</th>\n      <th>genre_1</th>\n      <th>confidence_1</th>\n      <th>genre_2</th>\n      <th>confidence_2</th>\n      <th>genre_3</th>\n      <th>confidence_3</th>\n      <th>genre_4</th>\n      <th>...</th>\n      <th>genre_13</th>\n      <th>confidence_13</th>\n      <th>genre_14</th>\n      <th>confidence_14</th>\n      <th>genre_15</th>\n      <th>confidence_15</th>\n      <th>genre_16</th>\n      <th>confidence_16</th>\n      <th>genre_17</th>\n      <th>confidence_17</th>\n    </tr>\n  </thead>\n  <tbody>\n    <tr>\n      <th>0</th>\n      <td>TRAAAAK128F9318786</td>\n      <td>Rock</td>\n      <td>201</td>\n      <td>Rock</td>\n      <td>0.676617</td>\n      <td>Metal</td>\n      <td>0.099502</td>\n      <td>Hard Rock</td>\n      <td>0.044776</td>\n      <td>Alternative</td>\n      <td>...</td>\n      <td>Alternative Rock/Rock</td>\n      <td>0.004975</td>\n      <td>Rock/Post-Grunge</td>\n      <td>0.004975</td>\n      <td>Hard Rock &amp; Metal</td>\n      <td>0.004975</td>\n      <td>Music</td>\n      <td>0.004975</td>\n      <td>Other</td>\n      <td>0.004975</td>\n    </tr>\n    <tr>\n      <th>1</th>\n      <td>TRAAAAV128F421A322</td>\n      <td>Rock</td>\n      <td>8</td>\n      <td>Rock</td>\n      <td>0.500000</td>\n      <td>Punk</td>\n      <td>0.500000</td>\n      <td>NaN</td>\n      <td>NaN</td>\n      <td>NaN</td>\n      <td>...</td>\n      <td>NaN</td>\n      <td>NaN</td>\n      <td>NaN</td>\n      <td>NaN</td>\n      <td>NaN</td>\n      <td>NaN</td>\n      <td>NaN</td>\n      <td>NaN</td>\n      <td>NaN</td>\n      <td>NaN</td>\n    </tr>\n    <tr>\n      <th>2</th>\n      <td>TRAAAAW128F429D538</td>\n      <td>Hip-Hop</td>\n      <td>133</td>\n      <td>Hip-Hop</td>\n      <td>0.488722</td>\n      <td>Hip-Hop/Rap</td>\n      <td>0.270677</td>\n      <td>Rap</td>\n      <td>0.090226</td>\n      <td>Hip-Hop (255)</td>\n      <td>...</td>\n      <td>Hip Hip</td>\n      <td>0.007519</td>\n      <td>West Coast Rap</td>\n      <td>0.007519</td>\n      <td>Rap/Westcoast/Underground</td>\n      <td>0.007519</td>\n      <td>Classic Hip Hop</td>\n      <td>0.007519</td>\n      <td>Rock</td>\n      <td>0.007519</td>\n    </tr>\n    <tr>\n      <th>3</th>\n      <td>TRAAAAY128F42A73F0</td>\n      <td>World</td>\n      <td>1</td>\n      <td>World</td>\n      <td>1.000000</td>\n      <td>NaN</td>\n      <td>NaN</td>\n      <td>NaN</td>\n      <td>NaN</td>\n      <td>NaN</td>\n      <td>...</td>\n      <td>NaN</td>\n      <td>NaN</td>\n      <td>NaN</td>\n      <td>NaN</td>\n      <td>NaN</td>\n      <td>NaN</td>\n      <td>NaN</td>\n      <td>NaN</td>\n      <td>NaN</td>\n      <td>NaN</td>\n    </tr>\n    <tr>\n      <th>4</th>\n      <td>TRAAABD128F429CF47</td>\n      <td>Rock</td>\n      <td>40</td>\n      <td>Rock</td>\n      <td>0.400000</td>\n      <td>Rock/Pop</td>\n      <td>0.150000</td>\n      <td>Oldies</td>\n      <td>0.100000</td>\n      <td>Unknown Genre</td>\n      <td>...</td>\n      <td>NaN</td>\n      <td>NaN</td>\n      <td>NaN</td>\n      <td>NaN</td>\n      <td>NaN</td>\n      <td>NaN</td>\n      <td>NaN</td>\n      <td>NaN</td>\n      <td>NaN</td>\n      <td>NaN</td>\n    </tr>\n  </tbody>\n</table>\n<p>5 rows × 37 columns</p>\n</div>"
     },
     "execution_count": 36,
     "metadata": {},
     "output_type": "execute_result"
    }
   ],
   "source": [
    "genres = pd.read_table('msd_beatunes_map.cls', skiprows=7, delimiter='\\t', encoding_errors='ignore', on_bad_lines='skip',\n",
    "                       header=None, names=['track_id', 'main_genre', 'n_taggers', *list(itertools.chain(*list(zip([f'genre_{i+1}' for i in range(17)], [f'confidence_{i+1}' for i in range(17)]))))])\n",
    "genres.head()"
   ],
   "metadata": {
    "collapsed": false
   }
  },
  {
   "cell_type": "markdown",
   "source": [
    "Join the genres with song metadata"
   ],
   "metadata": {
    "collapsed": false
   }
  },
  {
   "cell_type": "code",
   "execution_count": 37,
   "outputs": [
    {
     "data": {
      "text/plain": "         artist_7digitalid  artist_familiarity  artist_hotttnesss  \\\n0                     4069            0.649822           0.394032   \n1                   113480            0.439604           0.356992   \n2                    63531            0.643681           0.437504   \n3                    65051            0.448501           0.372349   \n4                   158279            0.000000           0.000000   \n...                    ...                 ...                ...   \n1001927              27206            0.528617           0.411595   \n1001928              51580            0.401500           0.374866   \n1001929              95885            0.556918           0.336914   \n1001930              90037            0.403668           0.256935   \n1001931             329767            0.552977           0.454869   \n\n                  artist_id  artist_latitude    artist_location  \\\n0        ARYZTJS1187B98C555              NaN                NaN   \n1        ARMVN3U1187FB3A1EB              NaN                NaN   \n2        ARGEKB01187FB50750          55.8578  Glasgow, Scotland   \n3        ARNWYLR1187B9B2F9C              NaN                NaN   \n4        AREQDTE1269FB37231              NaN                NaN   \n...                     ...              ...                ...   \n1001927  AR7Z4J81187FB3FC59              NaN                NaN   \n1001928  ART5FZD1187B9A7FCF              NaN                NaN   \n1001929  ARZ3R6M1187B9AF750              NaN            GERMANY   \n1001930  ARCMCOK1187B9B1073              NaN                NaN   \n1001931  AR7PLM21187B990D08              NaN                NaN   \n\n         artist_longitude                           artist_mbid  \\\n0                     NaN  357ff05d-848a-44cf-b608-cb34b5701ae5   \n1                     NaN  8d7ef530-a6fd-4f8f-b2e2-74aec765e0f9   \n2                -4.24251  3d403d44-36ce-465c-ad43-ae877e65adc4   \n3                     NaN  12be7648-7094-495f-90e6-df4189d68615   \n4                     NaN                                   NaN   \n...                   ...                                   ...   \n1001927               NaN  9d50cb20-7e42-45cc-b0dd-154c3e92a577   \n1001928               NaN  2357c400-9109-42b6-b3fe-9e2d9f8e3872   \n1001929               NaN  8b97e9c8-61f5-4615-9a96-276f24204e34   \n1001930               NaN  4ac5f3de-c5ad-475e-ad50-41f1ef9dba20   \n1001931               NaN  3af2b07e-c91c-4160-9bda-f0b9e3144ed3   \n\n              artist_name  artist_playmeid  ...      genre_13  confidence_13  \\\n0        Faster Pussy cat            44895  ...           NaN            NaN   \n1        Karkkiautomaatti               -1  ...           NaN            NaN   \n2          Hudson Mohawke               -1  ...  Instrumental       0.005725   \n3             Yerba Brava            34000  ...           NaN            NaN   \n4              Der Mystic               -1  ...           NaN            NaN   \n...                   ...              ...  ...           ...            ...   \n1001927      Kiko Navarro           150175  ...           NaN            NaN   \n1001928     Kuldeep Manak            53321  ...           NaN            NaN   \n1001929    Gabriel Le Mar               -1  ...           NaN            NaN   \n1001930             Elude               -1  ...           NaN            NaN   \n1001931             Texta               -1  ...           NaN            NaN   \n\n         genre_14  confidence_14    genre_15  confidence_15          genre_16  \\\n0             NaN            NaN         NaN            NaN               NaN   \n1             NaN            NaN         NaN            NaN               NaN   \n2           Dance       0.003817  Dance & DJ       0.003817  Ambient Funk Pop   \n3             NaN            NaN         NaN            NaN               NaN   \n4             NaN            NaN         NaN            NaN               NaN   \n...           ...            ...         ...            ...               ...   \n1001927       NaN            NaN         NaN            NaN               NaN   \n1001928       NaN            NaN         NaN            NaN               NaN   \n1001929       NaN            NaN         NaN            NaN               NaN   \n1001930       NaN            NaN         NaN            NaN               NaN   \n1001931       NaN            NaN         NaN            NaN               NaN   \n\n         confidence_16 genre_17  confidence_17  \n0                  NaN      NaN            NaN  \n1                  NaN      NaN            NaN  \n2             0.003817   Glitch       0.003817  \n3                  NaN      NaN            NaN  \n4                  NaN      NaN            NaN  \n...                ...      ...            ...  \n1001927            NaN      NaN            NaN  \n1001928            NaN      NaN            NaN  \n1001929            NaN      NaN            NaN  \n1001930            NaN      NaN            NaN  \n1001931            NaN      NaN            NaN  \n\n[1001932 rows x 66 columns]",
      "text/html": "<div>\n<style scoped>\n    .dataframe tbody tr th:only-of-type {\n        vertical-align: middle;\n    }\n\n    .dataframe tbody tr th {\n        vertical-align: top;\n    }\n\n    .dataframe thead th {\n        text-align: right;\n    }\n</style>\n<table border=\"1\" class=\"dataframe\">\n  <thead>\n    <tr style=\"text-align: right;\">\n      <th></th>\n      <th>artist_7digitalid</th>\n      <th>artist_familiarity</th>\n      <th>artist_hotttnesss</th>\n      <th>artist_id</th>\n      <th>artist_latitude</th>\n      <th>artist_location</th>\n      <th>artist_longitude</th>\n      <th>artist_mbid</th>\n      <th>artist_name</th>\n      <th>artist_playmeid</th>\n      <th>...</th>\n      <th>genre_13</th>\n      <th>confidence_13</th>\n      <th>genre_14</th>\n      <th>confidence_14</th>\n      <th>genre_15</th>\n      <th>confidence_15</th>\n      <th>genre_16</th>\n      <th>confidence_16</th>\n      <th>genre_17</th>\n      <th>confidence_17</th>\n    </tr>\n  </thead>\n  <tbody>\n    <tr>\n      <th>0</th>\n      <td>4069</td>\n      <td>0.649822</td>\n      <td>0.394032</td>\n      <td>ARYZTJS1187B98C555</td>\n      <td>NaN</td>\n      <td>NaN</td>\n      <td>NaN</td>\n      <td>357ff05d-848a-44cf-b608-cb34b5701ae5</td>\n      <td>Faster Pussy cat</td>\n      <td>44895</td>\n      <td>...</td>\n      <td>NaN</td>\n      <td>NaN</td>\n      <td>NaN</td>\n      <td>NaN</td>\n      <td>NaN</td>\n      <td>NaN</td>\n      <td>NaN</td>\n      <td>NaN</td>\n      <td>NaN</td>\n      <td>NaN</td>\n    </tr>\n    <tr>\n      <th>1</th>\n      <td>113480</td>\n      <td>0.439604</td>\n      <td>0.356992</td>\n      <td>ARMVN3U1187FB3A1EB</td>\n      <td>NaN</td>\n      <td>NaN</td>\n      <td>NaN</td>\n      <td>8d7ef530-a6fd-4f8f-b2e2-74aec765e0f9</td>\n      <td>Karkkiautomaatti</td>\n      <td>-1</td>\n      <td>...</td>\n      <td>NaN</td>\n      <td>NaN</td>\n      <td>NaN</td>\n      <td>NaN</td>\n      <td>NaN</td>\n      <td>NaN</td>\n      <td>NaN</td>\n      <td>NaN</td>\n      <td>NaN</td>\n      <td>NaN</td>\n    </tr>\n    <tr>\n      <th>2</th>\n      <td>63531</td>\n      <td>0.643681</td>\n      <td>0.437504</td>\n      <td>ARGEKB01187FB50750</td>\n      <td>55.8578</td>\n      <td>Glasgow, Scotland</td>\n      <td>-4.24251</td>\n      <td>3d403d44-36ce-465c-ad43-ae877e65adc4</td>\n      <td>Hudson Mohawke</td>\n      <td>-1</td>\n      <td>...</td>\n      <td>Instrumental</td>\n      <td>0.005725</td>\n      <td>Dance</td>\n      <td>0.003817</td>\n      <td>Dance &amp; DJ</td>\n      <td>0.003817</td>\n      <td>Ambient Funk Pop</td>\n      <td>0.003817</td>\n      <td>Glitch</td>\n      <td>0.003817</td>\n    </tr>\n    <tr>\n      <th>3</th>\n      <td>65051</td>\n      <td>0.448501</td>\n      <td>0.372349</td>\n      <td>ARNWYLR1187B9B2F9C</td>\n      <td>NaN</td>\n      <td>NaN</td>\n      <td>NaN</td>\n      <td>12be7648-7094-495f-90e6-df4189d68615</td>\n      <td>Yerba Brava</td>\n      <td>34000</td>\n      <td>...</td>\n      <td>NaN</td>\n      <td>NaN</td>\n      <td>NaN</td>\n      <td>NaN</td>\n      <td>NaN</td>\n      <td>NaN</td>\n      <td>NaN</td>\n      <td>NaN</td>\n      <td>NaN</td>\n      <td>NaN</td>\n    </tr>\n    <tr>\n      <th>4</th>\n      <td>158279</td>\n      <td>0.000000</td>\n      <td>0.000000</td>\n      <td>AREQDTE1269FB37231</td>\n      <td>NaN</td>\n      <td>NaN</td>\n      <td>NaN</td>\n      <td>NaN</td>\n      <td>Der Mystic</td>\n      <td>-1</td>\n      <td>...</td>\n      <td>NaN</td>\n      <td>NaN</td>\n      <td>NaN</td>\n      <td>NaN</td>\n      <td>NaN</td>\n      <td>NaN</td>\n      <td>NaN</td>\n      <td>NaN</td>\n      <td>NaN</td>\n      <td>NaN</td>\n    </tr>\n    <tr>\n      <th>...</th>\n      <td>...</td>\n      <td>...</td>\n      <td>...</td>\n      <td>...</td>\n      <td>...</td>\n      <td>...</td>\n      <td>...</td>\n      <td>...</td>\n      <td>...</td>\n      <td>...</td>\n      <td>...</td>\n      <td>...</td>\n      <td>...</td>\n      <td>...</td>\n      <td>...</td>\n      <td>...</td>\n      <td>...</td>\n      <td>...</td>\n      <td>...</td>\n      <td>...</td>\n      <td>...</td>\n    </tr>\n    <tr>\n      <th>1001927</th>\n      <td>27206</td>\n      <td>0.528617</td>\n      <td>0.411595</td>\n      <td>AR7Z4J81187FB3FC59</td>\n      <td>NaN</td>\n      <td>NaN</td>\n      <td>NaN</td>\n      <td>9d50cb20-7e42-45cc-b0dd-154c3e92a577</td>\n      <td>Kiko Navarro</td>\n      <td>150175</td>\n      <td>...</td>\n      <td>NaN</td>\n      <td>NaN</td>\n      <td>NaN</td>\n      <td>NaN</td>\n      <td>NaN</td>\n      <td>NaN</td>\n      <td>NaN</td>\n      <td>NaN</td>\n      <td>NaN</td>\n      <td>NaN</td>\n    </tr>\n    <tr>\n      <th>1001928</th>\n      <td>51580</td>\n      <td>0.401500</td>\n      <td>0.374866</td>\n      <td>ART5FZD1187B9A7FCF</td>\n      <td>NaN</td>\n      <td>NaN</td>\n      <td>NaN</td>\n      <td>2357c400-9109-42b6-b3fe-9e2d9f8e3872</td>\n      <td>Kuldeep Manak</td>\n      <td>53321</td>\n      <td>...</td>\n      <td>NaN</td>\n      <td>NaN</td>\n      <td>NaN</td>\n      <td>NaN</td>\n      <td>NaN</td>\n      <td>NaN</td>\n      <td>NaN</td>\n      <td>NaN</td>\n      <td>NaN</td>\n      <td>NaN</td>\n    </tr>\n    <tr>\n      <th>1001929</th>\n      <td>95885</td>\n      <td>0.556918</td>\n      <td>0.336914</td>\n      <td>ARZ3R6M1187B9AF750</td>\n      <td>NaN</td>\n      <td>GERMANY</td>\n      <td>NaN</td>\n      <td>8b97e9c8-61f5-4615-9a96-276f24204e34</td>\n      <td>Gabriel Le Mar</td>\n      <td>-1</td>\n      <td>...</td>\n      <td>NaN</td>\n      <td>NaN</td>\n      <td>NaN</td>\n      <td>NaN</td>\n      <td>NaN</td>\n      <td>NaN</td>\n      <td>NaN</td>\n      <td>NaN</td>\n      <td>NaN</td>\n      <td>NaN</td>\n    </tr>\n    <tr>\n      <th>1001930</th>\n      <td>90037</td>\n      <td>0.403668</td>\n      <td>0.256935</td>\n      <td>ARCMCOK1187B9B1073</td>\n      <td>NaN</td>\n      <td>NaN</td>\n      <td>NaN</td>\n      <td>4ac5f3de-c5ad-475e-ad50-41f1ef9dba20</td>\n      <td>Elude</td>\n      <td>-1</td>\n      <td>...</td>\n      <td>NaN</td>\n      <td>NaN</td>\n      <td>NaN</td>\n      <td>NaN</td>\n      <td>NaN</td>\n      <td>NaN</td>\n      <td>NaN</td>\n      <td>NaN</td>\n      <td>NaN</td>\n      <td>NaN</td>\n    </tr>\n    <tr>\n      <th>1001931</th>\n      <td>329767</td>\n      <td>0.552977</td>\n      <td>0.454869</td>\n      <td>AR7PLM21187B990D08</td>\n      <td>NaN</td>\n      <td>NaN</td>\n      <td>NaN</td>\n      <td>3af2b07e-c91c-4160-9bda-f0b9e3144ed3</td>\n      <td>Texta</td>\n      <td>-1</td>\n      <td>...</td>\n      <td>NaN</td>\n      <td>NaN</td>\n      <td>NaN</td>\n      <td>NaN</td>\n      <td>NaN</td>\n      <td>NaN</td>\n      <td>NaN</td>\n      <td>NaN</td>\n      <td>NaN</td>\n      <td>NaN</td>\n    </tr>\n  </tbody>\n</table>\n<p>1001932 rows × 66 columns</p>\n</div>"
     },
     "execution_count": 37,
     "metadata": {},
     "output_type": "execute_result"
    }
   ],
   "source": [
    "song_artist_genre = pd.merge(left=song_artist, right=genres, left_on='track_id', right_on='track_id', how='left')\n",
    "song_artist_genre"
   ],
   "metadata": {
    "collapsed": false
   }
  },
  {
   "cell_type": "markdown",
   "source": [
    "How many songs are missing genres"
   ],
   "metadata": {
    "collapsed": false
   }
  },
  {
   "cell_type": "code",
   "execution_count": 39,
   "outputs": [
    {
     "data": {
      "text/plain": "0.32243705161627734"
     },
     "execution_count": 39,
     "metadata": {},
     "output_type": "execute_result"
    }
   ],
   "source": [
    "song_artist_genre['main_genre'].isna().sum() / song_artist_genre.shape[0]"
   ],
   "metadata": {
    "collapsed": false
   }
  },
  {
   "cell_type": "markdown",
   "source": [
    "Around 32% of the songs are missing genres"
   ],
   "metadata": {
    "collapsed": false
   }
  },
  {
   "cell_type": "markdown",
   "source": [
    "**Joining the user data**"
   ],
   "metadata": {
    "collapsed": false
   }
  },
  {
   "cell_type": "code",
   "execution_count": 42,
   "outputs": [
    {
     "data": {
      "text/plain": "                                       user             song_id  play_count\n0  b80344d063b5ccb3212f76538f3d9e43d87dca9e  SOAKIMP12A8C130995           1\n1  b80344d063b5ccb3212f76538f3d9e43d87dca9e  SOAPDEY12A81C210A9           1\n2  b80344d063b5ccb3212f76538f3d9e43d87dca9e  SOBBMDR12A8C13253B           2\n3  b80344d063b5ccb3212f76538f3d9e43d87dca9e  SOBFNSP12AF72A0E22           1\n4  b80344d063b5ccb3212f76538f3d9e43d87dca9e  SOBFOVM12A58A7D494           1",
      "text/html": "<div>\n<style scoped>\n    .dataframe tbody tr th:only-of-type {\n        vertical-align: middle;\n    }\n\n    .dataframe tbody tr th {\n        vertical-align: top;\n    }\n\n    .dataframe thead th {\n        text-align: right;\n    }\n</style>\n<table border=\"1\" class=\"dataframe\">\n  <thead>\n    <tr style=\"text-align: right;\">\n      <th></th>\n      <th>user</th>\n      <th>song_id</th>\n      <th>play_count</th>\n    </tr>\n  </thead>\n  <tbody>\n    <tr>\n      <th>0</th>\n      <td>b80344d063b5ccb3212f76538f3d9e43d87dca9e</td>\n      <td>SOAKIMP12A8C130995</td>\n      <td>1</td>\n    </tr>\n    <tr>\n      <th>1</th>\n      <td>b80344d063b5ccb3212f76538f3d9e43d87dca9e</td>\n      <td>SOAPDEY12A81C210A9</td>\n      <td>1</td>\n    </tr>\n    <tr>\n      <th>2</th>\n      <td>b80344d063b5ccb3212f76538f3d9e43d87dca9e</td>\n      <td>SOBBMDR12A8C13253B</td>\n      <td>2</td>\n    </tr>\n    <tr>\n      <th>3</th>\n      <td>b80344d063b5ccb3212f76538f3d9e43d87dca9e</td>\n      <td>SOBFNSP12AF72A0E22</td>\n      <td>1</td>\n    </tr>\n    <tr>\n      <th>4</th>\n      <td>b80344d063b5ccb3212f76538f3d9e43d87dca9e</td>\n      <td>SOBFOVM12A58A7D494</td>\n      <td>1</td>\n    </tr>\n  </tbody>\n</table>\n</div>"
     },
     "execution_count": 41,
     "metadata": {},
     "output_type": "execute_result"
    },
    {
     "data": {
      "text/plain": "                                       user             song_id  play_count\n0  b80344d063b5ccb3212f76538f3d9e43d87dca9e  SOAKIMP12A8C130995           1\n1  b80344d063b5ccb3212f76538f3d9e43d87dca9e  SOAPDEY12A81C210A9           1\n2  b80344d063b5ccb3212f76538f3d9e43d87dca9e  SOBBMDR12A8C13253B           2\n3  b80344d063b5ccb3212f76538f3d9e43d87dca9e  SOBFNSP12AF72A0E22           1\n4  b80344d063b5ccb3212f76538f3d9e43d87dca9e  SOBFOVM12A58A7D494           1",
      "text/html": "<div>\n<style scoped>\n    .dataframe tbody tr th:only-of-type {\n        vertical-align: middle;\n    }\n\n    .dataframe tbody tr th {\n        vertical-align: top;\n    }\n\n    .dataframe thead th {\n        text-align: right;\n    }\n</style>\n<table border=\"1\" class=\"dataframe\">\n  <thead>\n    <tr style=\"text-align: right;\">\n      <th></th>\n      <th>user</th>\n      <th>song_id</th>\n      <th>play_count</th>\n    </tr>\n  </thead>\n  <tbody>\n    <tr>\n      <th>0</th>\n      <td>b80344d063b5ccb3212f76538f3d9e43d87dca9e</td>\n      <td>SOAKIMP12A8C130995</td>\n      <td>1</td>\n    </tr>\n    <tr>\n      <th>1</th>\n      <td>b80344d063b5ccb3212f76538f3d9e43d87dca9e</td>\n      <td>SOAPDEY12A81C210A9</td>\n      <td>1</td>\n    </tr>\n    <tr>\n      <th>2</th>\n      <td>b80344d063b5ccb3212f76538f3d9e43d87dca9e</td>\n      <td>SOBBMDR12A8C13253B</td>\n      <td>2</td>\n    </tr>\n    <tr>\n      <th>3</th>\n      <td>b80344d063b5ccb3212f76538f3d9e43d87dca9e</td>\n      <td>SOBFNSP12AF72A0E22</td>\n      <td>1</td>\n    </tr>\n    <tr>\n      <th>4</th>\n      <td>b80344d063b5ccb3212f76538f3d9e43d87dca9e</td>\n      <td>SOBFOVM12A58A7D494</td>\n      <td>1</td>\n    </tr>\n  </tbody>\n</table>\n</div>"
     },
     "execution_count": 42,
     "metadata": {},
     "output_type": "execute_result"
    }
   ],
   "source": [
    "user_song = pd.read_csv('train_triplets.txt/train_triplets.txt',\n",
    "                 delim_whitespace='\\t', header=None, names=['user', 'song_id', 'play_count'])\n",
    "user_song.head()"
   ],
   "metadata": {
    "collapsed": false
   }
  },
  {
   "cell_type": "code",
   "execution_count": 43,
   "outputs": [
    {
     "data": {
      "text/plain": "                                       user             song_id  play_count  \\\n0  b80344d063b5ccb3212f76538f3d9e43d87dca9e  SOAKIMP12A8C130995           1   \n1  b80344d063b5ccb3212f76538f3d9e43d87dca9e  SOAPDEY12A81C210A9           1   \n2  b80344d063b5ccb3212f76538f3d9e43d87dca9e  SOBBMDR12A8C13253B           2   \n3  b80344d063b5ccb3212f76538f3d9e43d87dca9e  SOBFNSP12AF72A0E22           1   \n4  b80344d063b5ccb3212f76538f3d9e43d87dca9e  SOBFOVM12A58A7D494           1   \n\n   artist_7digitalid  artist_familiarity  artist_hotttnesss  \\\n0               1613            0.832012           0.677482   \n1              14048            0.580555           0.482492   \n2              16688            0.633119           0.417718   \n3              27492            0.675339           0.509058   \n4              14494            0.650281           0.451749   \n\n            artist_id  artist_latitude     artist_location  artist_longitude  \\\n0  ARC8CQZ1187B98DECA              NaN       Galveston, TX               NaN   \n1  ARHYUI71187FB48366         29.76045         Houston, TX         -95.36978   \n2  ARC1SF21187FB51D0F              NaN                 NaN               NaN   \n3  ARMS97V1187B99DD98         41.50075                  NE         -99.68095   \n4  ARI4V0E1187B9B6FC2         53.40977  Liverpool, England          -2.97848   \n\n   ...                                           genre_13 confidence_13  \\\n0  ...                                  Singer/Songwriter      0.004929   \n1  ...  .Piano Rock.Rnb.Soul.Billy Preston-Nothing Fro...      0.010000   \n2  ...                                          Acid Jazz      0.009901   \n3  ...                                          Folk/Rock      0.018265   \n4  ...                                                NaN           NaN   \n\n             genre_14 confidence_14   genre_15  confidence_15  \\\n0           Alt. Rock      0.004929  Surf Rock       0.004929   \n1                   *      0.010000  Retro Pop       0.010000   \n2               Chill      0.009901      Dance       0.007921   \n3  Alternative & Punk      0.018265      Indie       0.013699   \n4                 NaN           NaN        NaN            NaN   \n\n              genre_16  confidence_16  genre_17  confidence_17  \n0            Soft Rock       0.004929     Other       0.004929  \n1            Soul/Funk       0.010000  R&B Soul       0.010000  \n2               Guitar       0.007921     House       0.007921  \n3  Alternative Country       0.013699  No Genre       0.013699  \n4                  NaN            NaN       NaN            NaN  \n\n[5 rows x 68 columns]",
      "text/html": "<div>\n<style scoped>\n    .dataframe tbody tr th:only-of-type {\n        vertical-align: middle;\n    }\n\n    .dataframe tbody tr th {\n        vertical-align: top;\n    }\n\n    .dataframe thead th {\n        text-align: right;\n    }\n</style>\n<table border=\"1\" class=\"dataframe\">\n  <thead>\n    <tr style=\"text-align: right;\">\n      <th></th>\n      <th>user</th>\n      <th>song_id</th>\n      <th>play_count</th>\n      <th>artist_7digitalid</th>\n      <th>artist_familiarity</th>\n      <th>artist_hotttnesss</th>\n      <th>artist_id</th>\n      <th>artist_latitude</th>\n      <th>artist_location</th>\n      <th>artist_longitude</th>\n      <th>...</th>\n      <th>genre_13</th>\n      <th>confidence_13</th>\n      <th>genre_14</th>\n      <th>confidence_14</th>\n      <th>genre_15</th>\n      <th>confidence_15</th>\n      <th>genre_16</th>\n      <th>confidence_16</th>\n      <th>genre_17</th>\n      <th>confidence_17</th>\n    </tr>\n  </thead>\n  <tbody>\n    <tr>\n      <th>0</th>\n      <td>b80344d063b5ccb3212f76538f3d9e43d87dca9e</td>\n      <td>SOAKIMP12A8C130995</td>\n      <td>1</td>\n      <td>1613</td>\n      <td>0.832012</td>\n      <td>0.677482</td>\n      <td>ARC8CQZ1187B98DECA</td>\n      <td>NaN</td>\n      <td>Galveston, TX</td>\n      <td>NaN</td>\n      <td>...</td>\n      <td>Singer/Songwriter</td>\n      <td>0.004929</td>\n      <td>Alt. Rock</td>\n      <td>0.004929</td>\n      <td>Surf Rock</td>\n      <td>0.004929</td>\n      <td>Soft Rock</td>\n      <td>0.004929</td>\n      <td>Other</td>\n      <td>0.004929</td>\n    </tr>\n    <tr>\n      <th>1</th>\n      <td>b80344d063b5ccb3212f76538f3d9e43d87dca9e</td>\n      <td>SOAPDEY12A81C210A9</td>\n      <td>1</td>\n      <td>14048</td>\n      <td>0.580555</td>\n      <td>0.482492</td>\n      <td>ARHYUI71187FB48366</td>\n      <td>29.76045</td>\n      <td>Houston, TX</td>\n      <td>-95.36978</td>\n      <td>...</td>\n      <td>.Piano Rock.Rnb.Soul.Billy Preston-Nothing Fro...</td>\n      <td>0.010000</td>\n      <td>*</td>\n      <td>0.010000</td>\n      <td>Retro Pop</td>\n      <td>0.010000</td>\n      <td>Soul/Funk</td>\n      <td>0.010000</td>\n      <td>R&amp;B Soul</td>\n      <td>0.010000</td>\n    </tr>\n    <tr>\n      <th>2</th>\n      <td>b80344d063b5ccb3212f76538f3d9e43d87dca9e</td>\n      <td>SOBBMDR12A8C13253B</td>\n      <td>2</td>\n      <td>16688</td>\n      <td>0.633119</td>\n      <td>0.417718</td>\n      <td>ARC1SF21187FB51D0F</td>\n      <td>NaN</td>\n      <td>NaN</td>\n      <td>NaN</td>\n      <td>...</td>\n      <td>Acid Jazz</td>\n      <td>0.009901</td>\n      <td>Chill</td>\n      <td>0.009901</td>\n      <td>Dance</td>\n      <td>0.007921</td>\n      <td>Guitar</td>\n      <td>0.007921</td>\n      <td>House</td>\n      <td>0.007921</td>\n    </tr>\n    <tr>\n      <th>3</th>\n      <td>b80344d063b5ccb3212f76538f3d9e43d87dca9e</td>\n      <td>SOBFNSP12AF72A0E22</td>\n      <td>1</td>\n      <td>27492</td>\n      <td>0.675339</td>\n      <td>0.509058</td>\n      <td>ARMS97V1187B99DD98</td>\n      <td>41.50075</td>\n      <td>NE</td>\n      <td>-99.68095</td>\n      <td>...</td>\n      <td>Folk/Rock</td>\n      <td>0.018265</td>\n      <td>Alternative &amp; Punk</td>\n      <td>0.018265</td>\n      <td>Indie</td>\n      <td>0.013699</td>\n      <td>Alternative Country</td>\n      <td>0.013699</td>\n      <td>No Genre</td>\n      <td>0.013699</td>\n    </tr>\n    <tr>\n      <th>4</th>\n      <td>b80344d063b5ccb3212f76538f3d9e43d87dca9e</td>\n      <td>SOBFOVM12A58A7D494</td>\n      <td>1</td>\n      <td>14494</td>\n      <td>0.650281</td>\n      <td>0.451749</td>\n      <td>ARI4V0E1187B9B6FC2</td>\n      <td>53.40977</td>\n      <td>Liverpool, England</td>\n      <td>-2.97848</td>\n      <td>...</td>\n      <td>NaN</td>\n      <td>NaN</td>\n      <td>NaN</td>\n      <td>NaN</td>\n      <td>NaN</td>\n      <td>NaN</td>\n      <td>NaN</td>\n      <td>NaN</td>\n      <td>NaN</td>\n      <td>NaN</td>\n    </tr>\n  </tbody>\n</table>\n<p>5 rows × 68 columns</p>\n</div>"
     },
     "execution_count": 43,
     "metadata": {},
     "output_type": "execute_result"
    }
   ],
   "source": [
    "df = pd.merge(left=user_song, right=song_artist_genre, left_on='song_id', right_on='song_id', how='left')  # Left join to capture all the user data, even if song info is missing\n",
    "df.head()"
   ],
   "metadata": {
    "collapsed": false
   }
  },
  {
   "cell_type": "markdown",
   "source": [
    "Popular genres"
   ],
   "metadata": {
    "collapsed": false
   }
  },
  {
   "cell_type": "code",
   "execution_count": 44,
   "outputs": [
    {
     "data": {
      "text/plain": "Rock          22701167\nPop            6055734\nHip-Hop        3119952\nElectronic     2529596\nR&B            1802938\nCountry        1321191\nLatin          1133810\nSoundtrack     1010415\nJazz            738954\nFolk            669257\nName: main_genre, dtype: int64"
     },
     "execution_count": 44,
     "metadata": {},
     "output_type": "execute_result"
    }
   ],
   "source": [
    "df['main_genre'].value_counts()[:10]"
   ],
   "metadata": {
    "collapsed": false
   }
  }
 ],
 "metadata": {
  "kernelspec": {
   "display_name": "Python 3",
   "language": "python",
   "name": "python3"
  },
  "language_info": {
   "codemirror_mode": {
    "name": "ipython",
    "version": 2
   },
   "file_extension": ".py",
   "mimetype": "text/x-python",
   "name": "python",
   "nbconvert_exporter": "python",
   "pygments_lexer": "ipython2",
   "version": "2.7.6"
  }
 },
 "nbformat": 4,
 "nbformat_minor": 0
}
